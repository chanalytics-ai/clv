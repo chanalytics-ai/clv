{
 "cells": [
  {
   "cell_type": "markdown",
   "metadata": {},
   "source": [
    "# Measuring Customer Lifetime Value (CLV) using lifetimes\n",
    "####  This notebook powers the Medium article: Why CLV should be an Organization's North Star Metric.\n",
    "#### Technical portions are denoted in *italics*"
   ]
  },
  {
   "cell_type": "markdown",
   "metadata": {},
   "source": [
    "### Preamble and Thoughts on CLV\n",
    "- What is CLV? CLV is the present value of future (net) cash flows associated with the customer. CLV is a forward-looking concept, not to be confused with (historic) customer profitability.\n",
    "- There are multiple considerations when calculating CLV such as: What is the nature of the business? Is it contractual or non-contractual? What are the opportunities for transactions? Are they discrete or continuous? If the business is non-contractual and transactions are discrete such as charities, then you would use a model such as the Beta-Geometric/Beta-Binomal model vs. a non-contractual business with continuous transactions such as grocery purchases or doctor visits where a Beta-Geometric/Negative Binomial Distribution Model will be used.\n",
    "- One challenge with looking at sales data in a non-contractual setting is how do we differentiate between customers who have ended their relationship with a company (i.e. stopped buying completely) vs. those who are in the midst of a long hiatus between transactions (those who buy 3-5x per year). And then how do you measure this for each customer since customer bases are heterogeneous by nature, meaning every single customer has a different CLV.\n",
    "- The other challenge is trying to understand who our best customers are, why they're different from the rest, and trying to find more like them. Sales data by nature is historic and not indicative of the future. A customer who bought 4 times in the past isn't necessarily projected to buy 4 times in the future. And most certainly might not have the same order value."
   ]
  },
  {
   "cell_type": "markdown",
   "metadata": {},
   "source": [
    "## Table of Contents\n",
    "1. Installation and Imports\n",
    "2. Data Preparation\n",
    "3. Understand Customer Behaviour\n",
    "4. Predict Customer Transactions\n",
    "5. Customer Lifetime Value"
   ]
  },
  {
   "cell_type": "markdown",
   "metadata": {},
   "source": [
    "## 1. Installation and Imports"
   ]
  },
  {
   "cell_type": "markdown",
   "metadata": {},
   "source": [
    "### Install Lifetimes Package\n",
    "- lifetimes is a Python package developed by Cameron Davidson-Pilon that brings together the models needed to analyze our customer base to understand customer behaviour, purchasing patterns, and ultimately, Customer Lifetime Value.\n",
    "\n",
    "- __[lifetimes Documentation](https://readthedocs.org/projects/lifetimes/downloads/pdf/latest/#page7)__"
   ]
  },
  {
   "cell_type": "code",
   "execution_count": 2,
   "metadata": {
    "scrolled": true
   },
   "outputs": [
    {
     "name": "stdout",
     "output_type": "stream",
     "text": [
      "Requirement already satisfied: lifetimes in /opt/anaconda3/lib/python3.7/site-packages (0.11.3)\n",
      "Requirement already satisfied: pandas>=0.24.0 in /opt/anaconda3/lib/python3.7/site-packages (from lifetimes) (1.1.3)\n",
      "Requirement already satisfied: autograd>=1.2.0 in /opt/anaconda3/lib/python3.7/site-packages (from lifetimes) (1.3)\n",
      "Requirement already satisfied: scipy>=1.0.0 in /opt/anaconda3/lib/python3.7/site-packages (from lifetimes) (1.5.2)\n",
      "Requirement already satisfied: dill>=0.2.6 in /opt/anaconda3/lib/python3.7/site-packages (from lifetimes) (0.3.3)\n",
      "Requirement already satisfied: numpy>=1.10.0 in /opt/anaconda3/lib/python3.7/site-packages (from lifetimes) (1.19.2)\n",
      "Requirement already satisfied: pytz>=2017.2 in /opt/anaconda3/lib/python3.7/site-packages (from pandas>=0.24.0->lifetimes) (2020.1)\n",
      "Requirement already satisfied: python-dateutil>=2.7.3 in /opt/anaconda3/lib/python3.7/site-packages (from pandas>=0.24.0->lifetimes) (2.8.1)\n",
      "Requirement already satisfied: future>=0.15.2 in /opt/anaconda3/lib/python3.7/site-packages (from autograd>=1.2.0->lifetimes) (0.18.2)\n",
      "Requirement already satisfied: six>=1.5 in /opt/anaconda3/lib/python3.7/site-packages (from python-dateutil>=2.7.3->pandas>=0.24.0->lifetimes) (1.15.0)\n",
      "Note: you may need to restart the kernel to use updated packages.\n"
     ]
    }
   ],
   "source": [
    "pip install lifetimes"
   ]
  },
  {
   "cell_type": "markdown",
   "metadata": {},
   "source": [
    "### Install Pandas Profiling Package\n",
    "- Pandas Profiling is a Python package that helps us quickly analyze our data"
   ]
  },
  {
   "cell_type": "code",
   "execution_count": 3,
   "metadata": {
    "scrolled": true
   },
   "outputs": [
    {
     "name": "stdout",
     "output_type": "stream",
     "text": [
      "Requirement already satisfied: pandas-profiling in /opt/anaconda3/lib/python3.7/site-packages (2.9.0)\n",
      "Requirement already satisfied: htmlmin>=0.1.12 in /opt/anaconda3/lib/python3.7/site-packages (from pandas-profiling) (0.1.12)\n",
      "Requirement already satisfied: tangled-up-in-unicode>=0.0.6 in /opt/anaconda3/lib/python3.7/site-packages (from pandas-profiling) (0.0.6)\n",
      "Requirement already satisfied: ipywidgets>=7.5.1 in /opt/anaconda3/lib/python3.7/site-packages (from pandas-profiling) (7.5.1)\n",
      "Requirement already satisfied: scipy>=1.4.1 in /opt/anaconda3/lib/python3.7/site-packages (from pandas-profiling) (1.5.2)\n",
      "Requirement already satisfied: jinja2>=2.11.1 in /opt/anaconda3/lib/python3.7/site-packages (from pandas-profiling) (2.11.2)\n",
      "Requirement already satisfied: pandas!=1.0.0,!=1.0.1,!=1.0.2,!=1.1.0,>=0.25.3 in /opt/anaconda3/lib/python3.7/site-packages (from pandas-profiling) (1.1.3)\n",
      "Requirement already satisfied: matplotlib>=3.2.0 in /opt/anaconda3/lib/python3.7/site-packages (from pandas-profiling) (3.3.2)\n",
      "Requirement already satisfied: tqdm>=4.43.0 in /opt/anaconda3/lib/python3.7/site-packages (from pandas-profiling) (4.50.2)\n",
      "Requirement already satisfied: numpy>=1.16.0 in /opt/anaconda3/lib/python3.7/site-packages (from pandas-profiling) (1.19.2)\n",
      "Requirement already satisfied: seaborn>=0.10.1 in /opt/anaconda3/lib/python3.7/site-packages (from pandas-profiling) (0.11.0)\n",
      "Requirement already satisfied: missingno>=0.4.2 in /opt/anaconda3/lib/python3.7/site-packages (from pandas-profiling) (0.4.2)\n",
      "Requirement already satisfied: attrs>=19.3.0 in /opt/anaconda3/lib/python3.7/site-packages (from pandas-profiling) (20.2.0)\n",
      "Requirement already satisfied: visions[type_image_path]==0.5.0 in /opt/anaconda3/lib/python3.7/site-packages (from pandas-profiling) (0.5.0)\n",
      "Requirement already satisfied: joblib in /opt/anaconda3/lib/python3.7/site-packages (from pandas-profiling) (0.17.0)\n",
      "Requirement already satisfied: confuse>=1.0.0 in /opt/anaconda3/lib/python3.7/site-packages (from pandas-profiling) (1.3.0)\n",
      "Requirement already satisfied: requests>=2.23.0 in /opt/anaconda3/lib/python3.7/site-packages (from pandas-profiling) (2.24.0)\n",
      "Requirement already satisfied: phik>=0.9.10 in /opt/anaconda3/lib/python3.7/site-packages (from pandas-profiling) (0.10.0)\n",
      "Requirement already satisfied: ipython>=4.0.0; python_version >= \"3.3\" in /opt/anaconda3/lib/python3.7/site-packages (from ipywidgets>=7.5.1->pandas-profiling) (7.18.1)\n",
      "Requirement already satisfied: widgetsnbextension~=3.5.0 in /opt/anaconda3/lib/python3.7/site-packages (from ipywidgets>=7.5.1->pandas-profiling) (3.5.1)\n",
      "Requirement already satisfied: nbformat>=4.2.0 in /opt/anaconda3/lib/python3.7/site-packages (from ipywidgets>=7.5.1->pandas-profiling) (5.0.8)\n",
      "Requirement already satisfied: traitlets>=4.3.1 in /opt/anaconda3/lib/python3.7/site-packages (from ipywidgets>=7.5.1->pandas-profiling) (5.0.5)\n",
      "Requirement already satisfied: ipykernel>=4.5.1 in /opt/anaconda3/lib/python3.7/site-packages (from ipywidgets>=7.5.1->pandas-profiling) (5.3.4)\n",
      "Requirement already satisfied: MarkupSafe>=0.23 in /opt/anaconda3/lib/python3.7/site-packages (from jinja2>=2.11.1->pandas-profiling) (1.1.1)\n",
      "Requirement already satisfied: pytz>=2017.2 in /opt/anaconda3/lib/python3.7/site-packages (from pandas!=1.0.0,!=1.0.1,!=1.0.2,!=1.1.0,>=0.25.3->pandas-profiling) (2020.1)\n",
      "Requirement already satisfied: python-dateutil>=2.7.3 in /opt/anaconda3/lib/python3.7/site-packages (from pandas!=1.0.0,!=1.0.1,!=1.0.2,!=1.1.0,>=0.25.3->pandas-profiling) (2.8.1)\n",
      "Requirement already satisfied: pillow>=6.2.0 in /opt/anaconda3/lib/python3.7/site-packages (from matplotlib>=3.2.0->pandas-profiling) (8.0.1)\n",
      "Requirement already satisfied: kiwisolver>=1.0.1 in /opt/anaconda3/lib/python3.7/site-packages (from matplotlib>=3.2.0->pandas-profiling) (1.2.0)\n",
      "Requirement already satisfied: cycler>=0.10 in /opt/anaconda3/lib/python3.7/site-packages (from matplotlib>=3.2.0->pandas-profiling) (0.10.0)\n",
      "Requirement already satisfied: pyparsing!=2.0.4,!=2.1.2,!=2.1.6,>=2.0.3 in /opt/anaconda3/lib/python3.7/site-packages (from matplotlib>=3.2.0->pandas-profiling) (2.4.7)\n",
      "Requirement already satisfied: certifi>=2020.06.20 in /opt/anaconda3/lib/python3.7/site-packages (from matplotlib>=3.2.0->pandas-profiling) (2020.6.20)\n",
      "Requirement already satisfied: networkx>=2.4 in /opt/anaconda3/lib/python3.7/site-packages (from visions[type_image_path]==0.5.0->pandas-profiling) (2.5)\n",
      "Requirement already satisfied: imagehash; extra == \"type_image_path\" in /opt/anaconda3/lib/python3.7/site-packages (from visions[type_image_path]==0.5.0->pandas-profiling) (4.2.0)\n",
      "Requirement already satisfied: pyyaml in /opt/anaconda3/lib/python3.7/site-packages (from confuse>=1.0.0->pandas-profiling) (5.3.1)\n",
      "Requirement already satisfied: chardet<4,>=3.0.2 in /opt/anaconda3/lib/python3.7/site-packages (from requests>=2.23.0->pandas-profiling) (3.0.4)\n",
      "Requirement already satisfied: idna<3,>=2.5 in /opt/anaconda3/lib/python3.7/site-packages (from requests>=2.23.0->pandas-profiling) (2.10)\n",
      "Requirement already satisfied: urllib3!=1.25.0,!=1.25.1,<1.26,>=1.21.1 in /opt/anaconda3/lib/python3.7/site-packages (from requests>=2.23.0->pandas-profiling) (1.25.11)\n",
      "Requirement already satisfied: numba>=0.38.1 in /opt/anaconda3/lib/python3.7/site-packages (from phik>=0.9.10->pandas-profiling) (0.51.2)\n",
      "Requirement already satisfied: decorator in /opt/anaconda3/lib/python3.7/site-packages (from ipython>=4.0.0; python_version >= \"3.3\"->ipywidgets>=7.5.1->pandas-profiling) (4.4.2)\n",
      "Requirement already satisfied: prompt-toolkit!=3.0.0,!=3.0.1,<3.1.0,>=2.0.0 in /opt/anaconda3/lib/python3.7/site-packages (from ipython>=4.0.0; python_version >= \"3.3\"->ipywidgets>=7.5.1->pandas-profiling) (3.0.8)\n",
      "Requirement already satisfied: pygments in /opt/anaconda3/lib/python3.7/site-packages (from ipython>=4.0.0; python_version >= \"3.3\"->ipywidgets>=7.5.1->pandas-profiling) (2.7.1)\n",
      "Requirement already satisfied: appnope; sys_platform == \"darwin\" in /opt/anaconda3/lib/python3.7/site-packages (from ipython>=4.0.0; python_version >= \"3.3\"->ipywidgets>=7.5.1->pandas-profiling) (0.1.0)\n",
      "Requirement already satisfied: pexpect>4.3; sys_platform != \"win32\" in /opt/anaconda3/lib/python3.7/site-packages (from ipython>=4.0.0; python_version >= \"3.3\"->ipywidgets>=7.5.1->pandas-profiling) (4.8.0)\n",
      "Requirement already satisfied: setuptools>=18.5 in /opt/anaconda3/lib/python3.7/site-packages (from ipython>=4.0.0; python_version >= \"3.3\"->ipywidgets>=7.5.1->pandas-profiling) (50.3.0.post20201006)\n",
      "Requirement already satisfied: backcall in /opt/anaconda3/lib/python3.7/site-packages (from ipython>=4.0.0; python_version >= \"3.3\"->ipywidgets>=7.5.1->pandas-profiling) (0.2.0)\n",
      "Requirement already satisfied: jedi>=0.10 in /opt/anaconda3/lib/python3.7/site-packages (from ipython>=4.0.0; python_version >= \"3.3\"->ipywidgets>=7.5.1->pandas-profiling) (0.17.1)\n",
      "Requirement already satisfied: pickleshare in /opt/anaconda3/lib/python3.7/site-packages (from ipython>=4.0.0; python_version >= \"3.3\"->ipywidgets>=7.5.1->pandas-profiling) (0.7.5)\n",
      "Requirement already satisfied: notebook>=4.4.1 in /opt/anaconda3/lib/python3.7/site-packages (from widgetsnbextension~=3.5.0->ipywidgets>=7.5.1->pandas-profiling) (6.1.4)\n",
      "Requirement already satisfied: ipython-genutils in /opt/anaconda3/lib/python3.7/site-packages (from nbformat>=4.2.0->ipywidgets>=7.5.1->pandas-profiling) (0.2.0)\n",
      "Requirement already satisfied: jsonschema!=2.5.0,>=2.4 in /opt/anaconda3/lib/python3.7/site-packages (from nbformat>=4.2.0->ipywidgets>=7.5.1->pandas-profiling) (3.2.0)\n",
      "Requirement already satisfied: jupyter-core in /opt/anaconda3/lib/python3.7/site-packages (from nbformat>=4.2.0->ipywidgets>=7.5.1->pandas-profiling) (4.6.3)\n",
      "Requirement already satisfied: jupyter-client in /opt/anaconda3/lib/python3.7/site-packages (from ipykernel>=4.5.1->ipywidgets>=7.5.1->pandas-profiling) (6.1.7)\n",
      "Requirement already satisfied: tornado>=4.2 in /opt/anaconda3/lib/python3.7/site-packages (from ipykernel>=4.5.1->ipywidgets>=7.5.1->pandas-profiling) (6.0.4)\n",
      "Requirement already satisfied: six>=1.5 in /opt/anaconda3/lib/python3.7/site-packages (from python-dateutil>=2.7.3->pandas!=1.0.0,!=1.0.1,!=1.0.2,!=1.1.0,>=0.25.3->pandas-profiling) (1.15.0)\n",
      "Requirement already satisfied: PyWavelets in /opt/anaconda3/lib/python3.7/site-packages (from imagehash; extra == \"type_image_path\"->visions[type_image_path]==0.5.0->pandas-profiling) (1.1.1)\n",
      "Requirement already satisfied: llvmlite<0.35,>=0.34.0.dev0 in /opt/anaconda3/lib/python3.7/site-packages (from numba>=0.38.1->phik>=0.9.10->pandas-profiling) (0.34.0)\n",
      "Requirement already satisfied: wcwidth in /opt/anaconda3/lib/python3.7/site-packages (from prompt-toolkit!=3.0.0,!=3.0.1,<3.1.0,>=2.0.0->ipython>=4.0.0; python_version >= \"3.3\"->ipywidgets>=7.5.1->pandas-profiling) (0.2.5)\n",
      "Requirement already satisfied: ptyprocess>=0.5 in /opt/anaconda3/lib/python3.7/site-packages (from pexpect>4.3; sys_platform != \"win32\"->ipython>=4.0.0; python_version >= \"3.3\"->ipywidgets>=7.5.1->pandas-profiling) (0.6.0)\n",
      "Requirement already satisfied: parso<0.8.0,>=0.7.0 in /opt/anaconda3/lib/python3.7/site-packages (from jedi>=0.10->ipython>=4.0.0; python_version >= \"3.3\"->ipywidgets>=7.5.1->pandas-profiling) (0.7.0)\n",
      "Requirement already satisfied: terminado>=0.8.3 in /opt/anaconda3/lib/python3.7/site-packages (from notebook>=4.4.1->widgetsnbextension~=3.5.0->ipywidgets>=7.5.1->pandas-profiling) (0.9.1)\n",
      "Requirement already satisfied: argon2-cffi in /opt/anaconda3/lib/python3.7/site-packages (from notebook>=4.4.1->widgetsnbextension~=3.5.0->ipywidgets>=7.5.1->pandas-profiling) (20.1.0)\n",
      "Requirement already satisfied: Send2Trash in /opt/anaconda3/lib/python3.7/site-packages (from notebook>=4.4.1->widgetsnbextension~=3.5.0->ipywidgets>=7.5.1->pandas-profiling) (1.5.0)\n",
      "Requirement already satisfied: pyzmq>=17 in /opt/anaconda3/lib/python3.7/site-packages (from notebook>=4.4.1->widgetsnbextension~=3.5.0->ipywidgets>=7.5.1->pandas-profiling) (19.0.2)\n",
      "Requirement already satisfied: nbconvert in /opt/anaconda3/lib/python3.7/site-packages (from notebook>=4.4.1->widgetsnbextension~=3.5.0->ipywidgets>=7.5.1->pandas-profiling) (6.0.7)\n"
     ]
    },
    {
     "name": "stdout",
     "output_type": "stream",
     "text": [
      "Requirement already satisfied: prometheus-client in /opt/anaconda3/lib/python3.7/site-packages (from notebook>=4.4.1->widgetsnbextension~=3.5.0->ipywidgets>=7.5.1->pandas-profiling) (0.8.0)\n",
      "Requirement already satisfied: pyrsistent>=0.14.0 in /opt/anaconda3/lib/python3.7/site-packages (from jsonschema!=2.5.0,>=2.4->nbformat>=4.2.0->ipywidgets>=7.5.1->pandas-profiling) (0.17.3)\n",
      "Requirement already satisfied: importlib-metadata; python_version < \"3.8\" in /opt/anaconda3/lib/python3.7/site-packages (from jsonschema!=2.5.0,>=2.4->nbformat>=4.2.0->ipywidgets>=7.5.1->pandas-profiling) (2.0.0)\n",
      "Requirement already satisfied: cffi>=1.0.0 in /opt/anaconda3/lib/python3.7/site-packages (from argon2-cffi->notebook>=4.4.1->widgetsnbextension~=3.5.0->ipywidgets>=7.5.1->pandas-profiling) (1.14.0)\n",
      "Requirement already satisfied: bleach in /opt/anaconda3/lib/python3.7/site-packages (from nbconvert->notebook>=4.4.1->widgetsnbextension~=3.5.0->ipywidgets>=7.5.1->pandas-profiling) (3.2.1)\n",
      "Requirement already satisfied: nbclient<0.6.0,>=0.5.0 in /opt/anaconda3/lib/python3.7/site-packages (from nbconvert->notebook>=4.4.1->widgetsnbextension~=3.5.0->ipywidgets>=7.5.1->pandas-profiling) (0.5.1)\n",
      "Requirement already satisfied: pandocfilters>=1.4.1 in /opt/anaconda3/lib/python3.7/site-packages (from nbconvert->notebook>=4.4.1->widgetsnbextension~=3.5.0->ipywidgets>=7.5.1->pandas-profiling) (1.4.2)\n",
      "Requirement already satisfied: jupyterlab-pygments in /opt/anaconda3/lib/python3.7/site-packages (from nbconvert->notebook>=4.4.1->widgetsnbextension~=3.5.0->ipywidgets>=7.5.1->pandas-profiling) (0.1.2)\n",
      "Requirement already satisfied: defusedxml in /opt/anaconda3/lib/python3.7/site-packages (from nbconvert->notebook>=4.4.1->widgetsnbextension~=3.5.0->ipywidgets>=7.5.1->pandas-profiling) (0.6.0)\n",
      "Requirement already satisfied: mistune<2,>=0.8.1 in /opt/anaconda3/lib/python3.7/site-packages (from nbconvert->notebook>=4.4.1->widgetsnbextension~=3.5.0->ipywidgets>=7.5.1->pandas-profiling) (0.8.4)\n",
      "Requirement already satisfied: entrypoints>=0.2.2 in /opt/anaconda3/lib/python3.7/site-packages (from nbconvert->notebook>=4.4.1->widgetsnbextension~=3.5.0->ipywidgets>=7.5.1->pandas-profiling) (0.3)\n",
      "Requirement already satisfied: testpath in /opt/anaconda3/lib/python3.7/site-packages (from nbconvert->notebook>=4.4.1->widgetsnbextension~=3.5.0->ipywidgets>=7.5.1->pandas-profiling) (0.4.4)\n",
      "Requirement already satisfied: zipp>=0.5 in /opt/anaconda3/lib/python3.7/site-packages (from importlib-metadata; python_version < \"3.8\"->jsonschema!=2.5.0,>=2.4->nbformat>=4.2.0->ipywidgets>=7.5.1->pandas-profiling) (3.4.0)\n",
      "Requirement already satisfied: pycparser in /opt/anaconda3/lib/python3.7/site-packages (from cffi>=1.0.0->argon2-cffi->notebook>=4.4.1->widgetsnbextension~=3.5.0->ipywidgets>=7.5.1->pandas-profiling) (2.20)\n",
      "Requirement already satisfied: packaging in /opt/anaconda3/lib/python3.7/site-packages (from bleach->nbconvert->notebook>=4.4.1->widgetsnbextension~=3.5.0->ipywidgets>=7.5.1->pandas-profiling) (20.4)\n",
      "Requirement already satisfied: webencodings in /opt/anaconda3/lib/python3.7/site-packages (from bleach->nbconvert->notebook>=4.4.1->widgetsnbextension~=3.5.0->ipywidgets>=7.5.1->pandas-profiling) (0.5.1)\n",
      "Requirement already satisfied: async-generator in /opt/anaconda3/lib/python3.7/site-packages (from nbclient<0.6.0,>=0.5.0->nbconvert->notebook>=4.4.1->widgetsnbextension~=3.5.0->ipywidgets>=7.5.1->pandas-profiling) (1.10)\n",
      "Requirement already satisfied: nest-asyncio in /opt/anaconda3/lib/python3.7/site-packages (from nbclient<0.6.0,>=0.5.0->nbconvert->notebook>=4.4.1->widgetsnbextension~=3.5.0->ipywidgets>=7.5.1->pandas-profiling) (1.4.1)\n",
      "Note: you may need to restart the kernel to use updated packages.\n"
     ]
    }
   ],
   "source": [
    "pip install pandas-profiling"
   ]
  },
  {
   "cell_type": "markdown",
   "metadata": {},
   "source": [
    "### Import CLV Models\n",
    "\n",
    "- Refer to the following literature for full technical details and descriptions of these models:\n",
    "    - __[Probability Models for Customer-Base Analysis](https://www.brucehardie.com/talks/ho_cba_tut_art_09.pdf)__\n",
    "    - __[Buy ’Til You Die - A Walkthrough](https://cran.r-project.org/web/packages/BTYD/vignettes/BTYD-walkthrough.pdf)__"
   ]
  },
  {
   "cell_type": "code",
   "execution_count": 4,
   "metadata": {},
   "outputs": [],
   "source": [
    "#BG/NBD (Beta-Geometric/Negative Binomial Distribution Model) model for predicting transactions of non-contractual continuous customer bases\n",
    "from lifetimes import BetaGeoFitter\n",
    "#GammaGamma model for predicting conditional expected average CLV\n",
    "from lifetimes import GammaGammaFitter"
   ]
  },
  {
   "cell_type": "markdown",
   "metadata": {},
   "source": [
    "### Import CLV Plots, Utility Functions and Profiling\n",
    "- Full description of what each plot is can be found on Page 24 from the documentation"
   ]
  },
  {
   "cell_type": "code",
   "execution_count": 5,
   "metadata": {},
   "outputs": [],
   "source": [
    "from lifetimes.plotting import *\n",
    "from lifetimes.utils import summary_data_from_transaction_data\n",
    "from lifetimes.utils import calibration_and_holdout_data\n",
    "from pandas_profiling import ProfileReport"
   ]
  },
  {
   "cell_type": "markdown",
   "metadata": {},
   "source": [
    "### Bring in some other important tools\n",
    "- Standard data and plotting tools"
   ]
  },
  {
   "cell_type": "code",
   "execution_count": 6,
   "metadata": {},
   "outputs": [],
   "source": [
    "import matplotlib.pyplot as plt\n",
    "import pandas as pd\n",
    "import seaborn as sns\n",
    "import re"
   ]
  },
  {
   "cell_type": "markdown",
   "metadata": {},
   "source": [
    "### Import Online Retail Transactional Data\n",
    "- The data set is sourced from University of California Irvine in their Machine Learning Repository. \n",
    "\n",
    "- __[Online Retail Dataset](https://archive.ics.uci.edu/ml/datasets/Online+Retail+II)__"
   ]
  },
  {
   "cell_type": "code",
   "execution_count": 7,
   "metadata": {},
   "outputs": [],
   "source": [
    "#Import Data\n",
    "data1 = pd.read_excel (r'/Users/williamchan/Documents/Queens University /Chanalytics/CLV/Data/online_retail.xlsx', \n",
    "                       sheet_name = 'Year 2009-2010')\n",
    "data2 = pd.read_excel (r'/Users/williamchan/Documents/Queens University /Chanalytics/CLV/Data/online_retail.xlsx', \n",
    "                       sheet_name = 'Year 2010-2011')"
   ]
  },
  {
   "cell_type": "markdown",
   "metadata": {},
   "source": [
    "## 2. Data Preparation and Quick Profiling"
   ]
  },
  {
   "cell_type": "markdown",
   "metadata": {},
   "source": [
    "### Data Columns - Transactional Data\n",
    "- We bring in the relevant information required to analyze CLV for each customer. Once we generate the CLV metrics, we'll rejoin those columns into this dataset for further analysis."
   ]
  },
  {
   "cell_type": "code",
   "execution_count": 8,
   "metadata": {
    "scrolled": false
   },
   "outputs": [
    {
     "data": {
      "text/plain": [
       "<bound method DataFrame.info of        Invoice StockCode                          Description  Quantity  \\\n",
       "0       489434     85048  15CM CHRISTMAS GLASS BALL 20 LIGHTS        12   \n",
       "1       489434    79323P                   PINK CHERRY LIGHTS        12   \n",
       "2       489434    79323W                  WHITE CHERRY LIGHTS        12   \n",
       "3       489434     22041         RECORD FRAME 7\" SINGLE SIZE         48   \n",
       "4       489434     21232       STRAWBERRY CERAMIC TRINKET BOX        24   \n",
       "...        ...       ...                                  ...       ...   \n",
       "525456  538171     22271                 FELTCRAFT DOLL ROSIE         2   \n",
       "525457  538171     22750         FELTCRAFT PRINCESS LOLA DOLL         1   \n",
       "525458  538171     22751       FELTCRAFT PRINCESS OLIVIA DOLL         1   \n",
       "525459  538171     20970   PINK FLORAL FELTCRAFT SHOULDER BAG         2   \n",
       "525460  538171     21931               JUMBO STORAGE BAG SUKI         2   \n",
       "\n",
       "               InvoiceDate  Price  Customer ID         Country  \n",
       "0      2009-12-01 07:45:00   6.95      13085.0  United Kingdom  \n",
       "1      2009-12-01 07:45:00   6.75      13085.0  United Kingdom  \n",
       "2      2009-12-01 07:45:00   6.75      13085.0  United Kingdom  \n",
       "3      2009-12-01 07:45:00   2.10      13085.0  United Kingdom  \n",
       "4      2009-12-01 07:45:00   1.25      13085.0  United Kingdom  \n",
       "...                    ...    ...          ...             ...  \n",
       "525456 2010-12-09 20:01:00   2.95      17530.0  United Kingdom  \n",
       "525457 2010-12-09 20:01:00   3.75      17530.0  United Kingdom  \n",
       "525458 2010-12-09 20:01:00   3.75      17530.0  United Kingdom  \n",
       "525459 2010-12-09 20:01:00   3.75      17530.0  United Kingdom  \n",
       "525460 2010-12-09 20:01:00   1.95      17530.0  United Kingdom  \n",
       "\n",
       "[525461 rows x 8 columns]>"
      ]
     },
     "execution_count": 8,
     "metadata": {},
     "output_type": "execute_result"
    }
   ],
   "source": [
    "#Gather Quick Info\n",
    "data1.info"
   ]
  },
  {
   "cell_type": "code",
   "execution_count": 9,
   "metadata": {},
   "outputs": [
    {
     "data": {
      "text/plain": [
       "<bound method DataFrame.info of        Invoice StockCode                          Description  Quantity  \\\n",
       "0       536365    85123A   WHITE HANGING HEART T-LIGHT HOLDER         6   \n",
       "1       536365     71053                  WHITE METAL LANTERN         6   \n",
       "2       536365    84406B       CREAM CUPID HEARTS COAT HANGER         8   \n",
       "3       536365    84029G  KNITTED UNION FLAG HOT WATER BOTTLE         6   \n",
       "4       536365    84029E       RED WOOLLY HOTTIE WHITE HEART.         6   \n",
       "...        ...       ...                                  ...       ...   \n",
       "541905  581587     22899         CHILDREN'S APRON DOLLY GIRL          6   \n",
       "541906  581587     23254        CHILDRENS CUTLERY DOLLY GIRL          4   \n",
       "541907  581587     23255      CHILDRENS CUTLERY CIRCUS PARADE         4   \n",
       "541908  581587     22138        BAKING SET 9 PIECE RETROSPOT          3   \n",
       "541909  581587      POST                              POSTAGE         1   \n",
       "\n",
       "               InvoiceDate  Price  Customer ID         Country  \n",
       "0      2010-12-01 08:26:00   2.55      17850.0  United Kingdom  \n",
       "1      2010-12-01 08:26:00   3.39      17850.0  United Kingdom  \n",
       "2      2010-12-01 08:26:00   2.75      17850.0  United Kingdom  \n",
       "3      2010-12-01 08:26:00   3.39      17850.0  United Kingdom  \n",
       "4      2010-12-01 08:26:00   3.39      17850.0  United Kingdom  \n",
       "...                    ...    ...          ...             ...  \n",
       "541905 2011-12-09 12:50:00   2.10      12680.0          France  \n",
       "541906 2011-12-09 12:50:00   4.15      12680.0          France  \n",
       "541907 2011-12-09 12:50:00   4.15      12680.0          France  \n",
       "541908 2011-12-09 12:50:00   4.95      12680.0          France  \n",
       "541909 2011-12-09 12:50:00  18.00      12680.0          France  \n",
       "\n",
       "[541910 rows x 8 columns]>"
      ]
     },
     "execution_count": 9,
     "metadata": {},
     "output_type": "execute_result"
    }
   ],
   "source": [
    "#Gather Quick Info\n",
    "data2.info"
   ]
  },
  {
   "cell_type": "code",
   "execution_count": 10,
   "metadata": {
    "scrolled": true
   },
   "outputs": [
    {
     "data": {
      "text/html": [
       "<div>\n",
       "<style scoped>\n",
       "    .dataframe tbody tr th:only-of-type {\n",
       "        vertical-align: middle;\n",
       "    }\n",
       "\n",
       "    .dataframe tbody tr th {\n",
       "        vertical-align: top;\n",
       "    }\n",
       "\n",
       "    .dataframe thead th {\n",
       "        text-align: right;\n",
       "    }\n",
       "</style>\n",
       "<table border=\"1\" class=\"dataframe\">\n",
       "  <thead>\n",
       "    <tr style=\"text-align: right;\">\n",
       "      <th></th>\n",
       "      <th>Invoice</th>\n",
       "      <th>StockCode</th>\n",
       "      <th>Description</th>\n",
       "      <th>Quantity</th>\n",
       "      <th>InvoiceDate</th>\n",
       "      <th>Price</th>\n",
       "      <th>Customer ID</th>\n",
       "      <th>Country</th>\n",
       "    </tr>\n",
       "  </thead>\n",
       "  <tbody>\n",
       "    <tr>\n",
       "      <th>525451</th>\n",
       "      <td>538171</td>\n",
       "      <td>22748</td>\n",
       "      <td>POPPY'S PLAYHOUSE KITCHEN</td>\n",
       "      <td>2</td>\n",
       "      <td>2010-12-09 20:01:00</td>\n",
       "      <td>2.10</td>\n",
       "      <td>17530.0</td>\n",
       "      <td>United Kingdom</td>\n",
       "    </tr>\n",
       "    <tr>\n",
       "      <th>525452</th>\n",
       "      <td>538171</td>\n",
       "      <td>22745</td>\n",
       "      <td>POPPY'S PLAYHOUSE BEDROOM</td>\n",
       "      <td>2</td>\n",
       "      <td>2010-12-09 20:01:00</td>\n",
       "      <td>2.10</td>\n",
       "      <td>17530.0</td>\n",
       "      <td>United Kingdom</td>\n",
       "    </tr>\n",
       "    <tr>\n",
       "      <th>525453</th>\n",
       "      <td>538171</td>\n",
       "      <td>22558</td>\n",
       "      <td>CLOTHES PEGS RETROSPOT PACK 24</td>\n",
       "      <td>4</td>\n",
       "      <td>2010-12-09 20:01:00</td>\n",
       "      <td>1.49</td>\n",
       "      <td>17530.0</td>\n",
       "      <td>United Kingdom</td>\n",
       "    </tr>\n",
       "    <tr>\n",
       "      <th>525454</th>\n",
       "      <td>538171</td>\n",
       "      <td>21671</td>\n",
       "      <td>RED SPOT CERAMIC DRAWER KNOB</td>\n",
       "      <td>6</td>\n",
       "      <td>2010-12-09 20:01:00</td>\n",
       "      <td>1.25</td>\n",
       "      <td>17530.0</td>\n",
       "      <td>United Kingdom</td>\n",
       "    </tr>\n",
       "    <tr>\n",
       "      <th>525455</th>\n",
       "      <td>538171</td>\n",
       "      <td>20971</td>\n",
       "      <td>PINK BLUE FELT CRAFT TRINKET BOX</td>\n",
       "      <td>2</td>\n",
       "      <td>2010-12-09 20:01:00</td>\n",
       "      <td>1.25</td>\n",
       "      <td>17530.0</td>\n",
       "      <td>United Kingdom</td>\n",
       "    </tr>\n",
       "    <tr>\n",
       "      <th>525456</th>\n",
       "      <td>538171</td>\n",
       "      <td>22271</td>\n",
       "      <td>FELTCRAFT DOLL ROSIE</td>\n",
       "      <td>2</td>\n",
       "      <td>2010-12-09 20:01:00</td>\n",
       "      <td>2.95</td>\n",
       "      <td>17530.0</td>\n",
       "      <td>United Kingdom</td>\n",
       "    </tr>\n",
       "    <tr>\n",
       "      <th>525457</th>\n",
       "      <td>538171</td>\n",
       "      <td>22750</td>\n",
       "      <td>FELTCRAFT PRINCESS LOLA DOLL</td>\n",
       "      <td>1</td>\n",
       "      <td>2010-12-09 20:01:00</td>\n",
       "      <td>3.75</td>\n",
       "      <td>17530.0</td>\n",
       "      <td>United Kingdom</td>\n",
       "    </tr>\n",
       "    <tr>\n",
       "      <th>525458</th>\n",
       "      <td>538171</td>\n",
       "      <td>22751</td>\n",
       "      <td>FELTCRAFT PRINCESS OLIVIA DOLL</td>\n",
       "      <td>1</td>\n",
       "      <td>2010-12-09 20:01:00</td>\n",
       "      <td>3.75</td>\n",
       "      <td>17530.0</td>\n",
       "      <td>United Kingdom</td>\n",
       "    </tr>\n",
       "    <tr>\n",
       "      <th>525459</th>\n",
       "      <td>538171</td>\n",
       "      <td>20970</td>\n",
       "      <td>PINK FLORAL FELTCRAFT SHOULDER BAG</td>\n",
       "      <td>2</td>\n",
       "      <td>2010-12-09 20:01:00</td>\n",
       "      <td>3.75</td>\n",
       "      <td>17530.0</td>\n",
       "      <td>United Kingdom</td>\n",
       "    </tr>\n",
       "    <tr>\n",
       "      <th>525460</th>\n",
       "      <td>538171</td>\n",
       "      <td>21931</td>\n",
       "      <td>JUMBO STORAGE BAG SUKI</td>\n",
       "      <td>2</td>\n",
       "      <td>2010-12-09 20:01:00</td>\n",
       "      <td>1.95</td>\n",
       "      <td>17530.0</td>\n",
       "      <td>United Kingdom</td>\n",
       "    </tr>\n",
       "  </tbody>\n",
       "</table>\n",
       "</div>"
      ],
      "text/plain": [
       "       Invoice StockCode                         Description  Quantity  \\\n",
       "525451  538171     22748           POPPY'S PLAYHOUSE KITCHEN         2   \n",
       "525452  538171     22745          POPPY'S PLAYHOUSE BEDROOM          2   \n",
       "525453  538171     22558     CLOTHES PEGS RETROSPOT PACK 24          4   \n",
       "525454  538171     21671        RED SPOT CERAMIC DRAWER KNOB         6   \n",
       "525455  538171     20971    PINK BLUE FELT CRAFT TRINKET BOX         2   \n",
       "525456  538171     22271                FELTCRAFT DOLL ROSIE         2   \n",
       "525457  538171     22750        FELTCRAFT PRINCESS LOLA DOLL         1   \n",
       "525458  538171     22751      FELTCRAFT PRINCESS OLIVIA DOLL         1   \n",
       "525459  538171     20970  PINK FLORAL FELTCRAFT SHOULDER BAG         2   \n",
       "525460  538171     21931              JUMBO STORAGE BAG SUKI         2   \n",
       "\n",
       "               InvoiceDate  Price  Customer ID         Country  \n",
       "525451 2010-12-09 20:01:00   2.10      17530.0  United Kingdom  \n",
       "525452 2010-12-09 20:01:00   2.10      17530.0  United Kingdom  \n",
       "525453 2010-12-09 20:01:00   1.49      17530.0  United Kingdom  \n",
       "525454 2010-12-09 20:01:00   1.25      17530.0  United Kingdom  \n",
       "525455 2010-12-09 20:01:00   1.25      17530.0  United Kingdom  \n",
       "525456 2010-12-09 20:01:00   2.95      17530.0  United Kingdom  \n",
       "525457 2010-12-09 20:01:00   3.75      17530.0  United Kingdom  \n",
       "525458 2010-12-09 20:01:00   3.75      17530.0  United Kingdom  \n",
       "525459 2010-12-09 20:01:00   3.75      17530.0  United Kingdom  \n",
       "525460 2010-12-09 20:01:00   1.95      17530.0  United Kingdom  "
      ]
     },
     "execution_count": 10,
     "metadata": {},
     "output_type": "execute_result"
    }
   ],
   "source": [
    "data1.tail(10)"
   ]
  },
  {
   "cell_type": "code",
   "execution_count": 11,
   "metadata": {},
   "outputs": [
    {
     "data": {
      "text/html": [
       "<div>\n",
       "<style scoped>\n",
       "    .dataframe tbody tr th:only-of-type {\n",
       "        vertical-align: middle;\n",
       "    }\n",
       "\n",
       "    .dataframe tbody tr th {\n",
       "        vertical-align: top;\n",
       "    }\n",
       "\n",
       "    .dataframe thead th {\n",
       "        text-align: right;\n",
       "    }\n",
       "</style>\n",
       "<table border=\"1\" class=\"dataframe\">\n",
       "  <thead>\n",
       "    <tr style=\"text-align: right;\">\n",
       "      <th></th>\n",
       "      <th>Invoice</th>\n",
       "      <th>StockCode</th>\n",
       "      <th>Description</th>\n",
       "      <th>Quantity</th>\n",
       "      <th>InvoiceDate</th>\n",
       "      <th>Price</th>\n",
       "      <th>Customer ID</th>\n",
       "      <th>Country</th>\n",
       "    </tr>\n",
       "  </thead>\n",
       "  <tbody>\n",
       "    <tr>\n",
       "      <th>541900</th>\n",
       "      <td>581587</td>\n",
       "      <td>22730</td>\n",
       "      <td>ALARM CLOCK BAKELIKE IVORY</td>\n",
       "      <td>4</td>\n",
       "      <td>2011-12-09 12:50:00</td>\n",
       "      <td>3.75</td>\n",
       "      <td>12680.0</td>\n",
       "      <td>France</td>\n",
       "    </tr>\n",
       "    <tr>\n",
       "      <th>541901</th>\n",
       "      <td>581587</td>\n",
       "      <td>22367</td>\n",
       "      <td>CHILDRENS APRON SPACEBOY DESIGN</td>\n",
       "      <td>8</td>\n",
       "      <td>2011-12-09 12:50:00</td>\n",
       "      <td>1.95</td>\n",
       "      <td>12680.0</td>\n",
       "      <td>France</td>\n",
       "    </tr>\n",
       "    <tr>\n",
       "      <th>541902</th>\n",
       "      <td>581587</td>\n",
       "      <td>22629</td>\n",
       "      <td>SPACEBOY LUNCH BOX</td>\n",
       "      <td>12</td>\n",
       "      <td>2011-12-09 12:50:00</td>\n",
       "      <td>1.95</td>\n",
       "      <td>12680.0</td>\n",
       "      <td>France</td>\n",
       "    </tr>\n",
       "    <tr>\n",
       "      <th>541903</th>\n",
       "      <td>581587</td>\n",
       "      <td>23256</td>\n",
       "      <td>CHILDRENS CUTLERY SPACEBOY</td>\n",
       "      <td>4</td>\n",
       "      <td>2011-12-09 12:50:00</td>\n",
       "      <td>4.15</td>\n",
       "      <td>12680.0</td>\n",
       "      <td>France</td>\n",
       "    </tr>\n",
       "    <tr>\n",
       "      <th>541904</th>\n",
       "      <td>581587</td>\n",
       "      <td>22613</td>\n",
       "      <td>PACK OF 20 SPACEBOY NAPKINS</td>\n",
       "      <td>12</td>\n",
       "      <td>2011-12-09 12:50:00</td>\n",
       "      <td>0.85</td>\n",
       "      <td>12680.0</td>\n",
       "      <td>France</td>\n",
       "    </tr>\n",
       "    <tr>\n",
       "      <th>541905</th>\n",
       "      <td>581587</td>\n",
       "      <td>22899</td>\n",
       "      <td>CHILDREN'S APRON DOLLY GIRL</td>\n",
       "      <td>6</td>\n",
       "      <td>2011-12-09 12:50:00</td>\n",
       "      <td>2.10</td>\n",
       "      <td>12680.0</td>\n",
       "      <td>France</td>\n",
       "    </tr>\n",
       "    <tr>\n",
       "      <th>541906</th>\n",
       "      <td>581587</td>\n",
       "      <td>23254</td>\n",
       "      <td>CHILDRENS CUTLERY DOLLY GIRL</td>\n",
       "      <td>4</td>\n",
       "      <td>2011-12-09 12:50:00</td>\n",
       "      <td>4.15</td>\n",
       "      <td>12680.0</td>\n",
       "      <td>France</td>\n",
       "    </tr>\n",
       "    <tr>\n",
       "      <th>541907</th>\n",
       "      <td>581587</td>\n",
       "      <td>23255</td>\n",
       "      <td>CHILDRENS CUTLERY CIRCUS PARADE</td>\n",
       "      <td>4</td>\n",
       "      <td>2011-12-09 12:50:00</td>\n",
       "      <td>4.15</td>\n",
       "      <td>12680.0</td>\n",
       "      <td>France</td>\n",
       "    </tr>\n",
       "    <tr>\n",
       "      <th>541908</th>\n",
       "      <td>581587</td>\n",
       "      <td>22138</td>\n",
       "      <td>BAKING SET 9 PIECE RETROSPOT</td>\n",
       "      <td>3</td>\n",
       "      <td>2011-12-09 12:50:00</td>\n",
       "      <td>4.95</td>\n",
       "      <td>12680.0</td>\n",
       "      <td>France</td>\n",
       "    </tr>\n",
       "    <tr>\n",
       "      <th>541909</th>\n",
       "      <td>581587</td>\n",
       "      <td>POST</td>\n",
       "      <td>POSTAGE</td>\n",
       "      <td>1</td>\n",
       "      <td>2011-12-09 12:50:00</td>\n",
       "      <td>18.00</td>\n",
       "      <td>12680.0</td>\n",
       "      <td>France</td>\n",
       "    </tr>\n",
       "  </tbody>\n",
       "</table>\n",
       "</div>"
      ],
      "text/plain": [
       "       Invoice StockCode                      Description  Quantity  \\\n",
       "541900  581587     22730       ALARM CLOCK BAKELIKE IVORY         4   \n",
       "541901  581587     22367  CHILDRENS APRON SPACEBOY DESIGN         8   \n",
       "541902  581587     22629              SPACEBOY LUNCH BOX         12   \n",
       "541903  581587     23256      CHILDRENS CUTLERY SPACEBOY          4   \n",
       "541904  581587     22613      PACK OF 20 SPACEBOY NAPKINS        12   \n",
       "541905  581587     22899     CHILDREN'S APRON DOLLY GIRL          6   \n",
       "541906  581587     23254    CHILDRENS CUTLERY DOLLY GIRL          4   \n",
       "541907  581587     23255  CHILDRENS CUTLERY CIRCUS PARADE         4   \n",
       "541908  581587     22138    BAKING SET 9 PIECE RETROSPOT          3   \n",
       "541909  581587      POST                          POSTAGE         1   \n",
       "\n",
       "               InvoiceDate  Price  Customer ID Country  \n",
       "541900 2011-12-09 12:50:00   3.75      12680.0  France  \n",
       "541901 2011-12-09 12:50:00   1.95      12680.0  France  \n",
       "541902 2011-12-09 12:50:00   1.95      12680.0  France  \n",
       "541903 2011-12-09 12:50:00   4.15      12680.0  France  \n",
       "541904 2011-12-09 12:50:00   0.85      12680.0  France  \n",
       "541905 2011-12-09 12:50:00   2.10      12680.0  France  \n",
       "541906 2011-12-09 12:50:00   4.15      12680.0  France  \n",
       "541907 2011-12-09 12:50:00   4.15      12680.0  France  \n",
       "541908 2011-12-09 12:50:00   4.95      12680.0  France  \n",
       "541909 2011-12-09 12:50:00  18.00      12680.0  France  "
      ]
     },
     "execution_count": 11,
     "metadata": {},
     "output_type": "execute_result"
    }
   ],
   "source": [
    "data2.tail(10)"
   ]
  },
  {
   "cell_type": "code",
   "execution_count": 12,
   "metadata": {},
   "outputs": [],
   "source": [
    "#Union both dataframes\n",
    "frames = [data1, data2]\n",
    "data = pd.concat(frames)"
   ]
  },
  {
   "cell_type": "code",
   "execution_count": 13,
   "metadata": {},
   "outputs": [],
   "source": [
    "#Calculate Total Sale\n",
    "data[\"total_sale\"] = data[\"Quantity\"] * data[\"Price\"]"
   ]
  },
  {
   "cell_type": "code",
   "execution_count": 14,
   "metadata": {},
   "outputs": [
    {
     "data": {
      "text/html": [
       "<div>\n",
       "<style scoped>\n",
       "    .dataframe tbody tr th:only-of-type {\n",
       "        vertical-align: middle;\n",
       "    }\n",
       "\n",
       "    .dataframe tbody tr th {\n",
       "        vertical-align: top;\n",
       "    }\n",
       "\n",
       "    .dataframe thead th {\n",
       "        text-align: right;\n",
       "    }\n",
       "</style>\n",
       "<table border=\"1\" class=\"dataframe\">\n",
       "  <thead>\n",
       "    <tr style=\"text-align: right;\">\n",
       "      <th></th>\n",
       "      <th>Invoice</th>\n",
       "      <th>StockCode</th>\n",
       "      <th>Description</th>\n",
       "      <th>Quantity</th>\n",
       "      <th>InvoiceDate</th>\n",
       "      <th>Price</th>\n",
       "      <th>Customer ID</th>\n",
       "      <th>Country</th>\n",
       "      <th>total_sale</th>\n",
       "    </tr>\n",
       "  </thead>\n",
       "  <tbody>\n",
       "    <tr>\n",
       "      <th>0</th>\n",
       "      <td>489434</td>\n",
       "      <td>85048</td>\n",
       "      <td>15CM CHRISTMAS GLASS BALL 20 LIGHTS</td>\n",
       "      <td>12</td>\n",
       "      <td>2009-12-01 07:45:00</td>\n",
       "      <td>6.95</td>\n",
       "      <td>13085.0</td>\n",
       "      <td>United Kingdom</td>\n",
       "      <td>83.40</td>\n",
       "    </tr>\n",
       "    <tr>\n",
       "      <th>1</th>\n",
       "      <td>489434</td>\n",
       "      <td>79323P</td>\n",
       "      <td>PINK CHERRY LIGHTS</td>\n",
       "      <td>12</td>\n",
       "      <td>2009-12-01 07:45:00</td>\n",
       "      <td>6.75</td>\n",
       "      <td>13085.0</td>\n",
       "      <td>United Kingdom</td>\n",
       "      <td>81.00</td>\n",
       "    </tr>\n",
       "    <tr>\n",
       "      <th>2</th>\n",
       "      <td>489434</td>\n",
       "      <td>79323W</td>\n",
       "      <td>WHITE CHERRY LIGHTS</td>\n",
       "      <td>12</td>\n",
       "      <td>2009-12-01 07:45:00</td>\n",
       "      <td>6.75</td>\n",
       "      <td>13085.0</td>\n",
       "      <td>United Kingdom</td>\n",
       "      <td>81.00</td>\n",
       "    </tr>\n",
       "    <tr>\n",
       "      <th>3</th>\n",
       "      <td>489434</td>\n",
       "      <td>22041</td>\n",
       "      <td>RECORD FRAME 7\" SINGLE SIZE</td>\n",
       "      <td>48</td>\n",
       "      <td>2009-12-01 07:45:00</td>\n",
       "      <td>2.10</td>\n",
       "      <td>13085.0</td>\n",
       "      <td>United Kingdom</td>\n",
       "      <td>100.80</td>\n",
       "    </tr>\n",
       "    <tr>\n",
       "      <th>4</th>\n",
       "      <td>489434</td>\n",
       "      <td>21232</td>\n",
       "      <td>STRAWBERRY CERAMIC TRINKET BOX</td>\n",
       "      <td>24</td>\n",
       "      <td>2009-12-01 07:45:00</td>\n",
       "      <td>1.25</td>\n",
       "      <td>13085.0</td>\n",
       "      <td>United Kingdom</td>\n",
       "      <td>30.00</td>\n",
       "    </tr>\n",
       "    <tr>\n",
       "      <th>...</th>\n",
       "      <td>...</td>\n",
       "      <td>...</td>\n",
       "      <td>...</td>\n",
       "      <td>...</td>\n",
       "      <td>...</td>\n",
       "      <td>...</td>\n",
       "      <td>...</td>\n",
       "      <td>...</td>\n",
       "      <td>...</td>\n",
       "    </tr>\n",
       "    <tr>\n",
       "      <th>541905</th>\n",
       "      <td>581587</td>\n",
       "      <td>22899</td>\n",
       "      <td>CHILDREN'S APRON DOLLY GIRL</td>\n",
       "      <td>6</td>\n",
       "      <td>2011-12-09 12:50:00</td>\n",
       "      <td>2.10</td>\n",
       "      <td>12680.0</td>\n",
       "      <td>France</td>\n",
       "      <td>12.60</td>\n",
       "    </tr>\n",
       "    <tr>\n",
       "      <th>541906</th>\n",
       "      <td>581587</td>\n",
       "      <td>23254</td>\n",
       "      <td>CHILDRENS CUTLERY DOLLY GIRL</td>\n",
       "      <td>4</td>\n",
       "      <td>2011-12-09 12:50:00</td>\n",
       "      <td>4.15</td>\n",
       "      <td>12680.0</td>\n",
       "      <td>France</td>\n",
       "      <td>16.60</td>\n",
       "    </tr>\n",
       "    <tr>\n",
       "      <th>541907</th>\n",
       "      <td>581587</td>\n",
       "      <td>23255</td>\n",
       "      <td>CHILDRENS CUTLERY CIRCUS PARADE</td>\n",
       "      <td>4</td>\n",
       "      <td>2011-12-09 12:50:00</td>\n",
       "      <td>4.15</td>\n",
       "      <td>12680.0</td>\n",
       "      <td>France</td>\n",
       "      <td>16.60</td>\n",
       "    </tr>\n",
       "    <tr>\n",
       "      <th>541908</th>\n",
       "      <td>581587</td>\n",
       "      <td>22138</td>\n",
       "      <td>BAKING SET 9 PIECE RETROSPOT</td>\n",
       "      <td>3</td>\n",
       "      <td>2011-12-09 12:50:00</td>\n",
       "      <td>4.95</td>\n",
       "      <td>12680.0</td>\n",
       "      <td>France</td>\n",
       "      <td>14.85</td>\n",
       "    </tr>\n",
       "    <tr>\n",
       "      <th>541909</th>\n",
       "      <td>581587</td>\n",
       "      <td>POST</td>\n",
       "      <td>POSTAGE</td>\n",
       "      <td>1</td>\n",
       "      <td>2011-12-09 12:50:00</td>\n",
       "      <td>18.00</td>\n",
       "      <td>12680.0</td>\n",
       "      <td>France</td>\n",
       "      <td>18.00</td>\n",
       "    </tr>\n",
       "  </tbody>\n",
       "</table>\n",
       "<p>1067371 rows × 9 columns</p>\n",
       "</div>"
      ],
      "text/plain": [
       "       Invoice StockCode                          Description  Quantity  \\\n",
       "0       489434     85048  15CM CHRISTMAS GLASS BALL 20 LIGHTS        12   \n",
       "1       489434    79323P                   PINK CHERRY LIGHTS        12   \n",
       "2       489434    79323W                  WHITE CHERRY LIGHTS        12   \n",
       "3       489434     22041         RECORD FRAME 7\" SINGLE SIZE         48   \n",
       "4       489434     21232       STRAWBERRY CERAMIC TRINKET BOX        24   \n",
       "...        ...       ...                                  ...       ...   \n",
       "541905  581587     22899         CHILDREN'S APRON DOLLY GIRL          6   \n",
       "541906  581587     23254        CHILDRENS CUTLERY DOLLY GIRL          4   \n",
       "541907  581587     23255      CHILDRENS CUTLERY CIRCUS PARADE         4   \n",
       "541908  581587     22138        BAKING SET 9 PIECE RETROSPOT          3   \n",
       "541909  581587      POST                              POSTAGE         1   \n",
       "\n",
       "               InvoiceDate  Price  Customer ID         Country  total_sale  \n",
       "0      2009-12-01 07:45:00   6.95      13085.0  United Kingdom       83.40  \n",
       "1      2009-12-01 07:45:00   6.75      13085.0  United Kingdom       81.00  \n",
       "2      2009-12-01 07:45:00   6.75      13085.0  United Kingdom       81.00  \n",
       "3      2009-12-01 07:45:00   2.10      13085.0  United Kingdom      100.80  \n",
       "4      2009-12-01 07:45:00   1.25      13085.0  United Kingdom       30.00  \n",
       "...                    ...    ...          ...             ...         ...  \n",
       "541905 2011-12-09 12:50:00   2.10      12680.0          France       12.60  \n",
       "541906 2011-12-09 12:50:00   4.15      12680.0          France       16.60  \n",
       "541907 2011-12-09 12:50:00   4.15      12680.0          France       16.60  \n",
       "541908 2011-12-09 12:50:00   4.95      12680.0          France       14.85  \n",
       "541909 2011-12-09 12:50:00  18.00      12680.0          France       18.00  \n",
       "\n",
       "[1067371 rows x 9 columns]"
      ]
     },
     "execution_count": 14,
     "metadata": {},
     "output_type": "execute_result"
    }
   ],
   "source": [
    "data"
   ]
  },
  {
   "cell_type": "code",
   "execution_count": 15,
   "metadata": {},
   "outputs": [],
   "source": [
    "#Convert DateTime to Date only\n",
    "data['date'] = pd.to_datetime(data['InvoiceDate']).dt.date"
   ]
  },
  {
   "cell_type": "code",
   "execution_count": 16,
   "metadata": {},
   "outputs": [],
   "source": [
    "data['Invoice'] = data['Invoice'].astype(str)"
   ]
  },
  {
   "cell_type": "code",
   "execution_count": 17,
   "metadata": {},
   "outputs": [
    {
     "data": {
      "application/vnd.jupyter.widget-view+json": {
       "model_id": "805fbc173a104514a026e91a41e24380",
       "version_major": 2,
       "version_minor": 0
      },
      "text/plain": [
       "HBox(children=(HTML(value='Summarize dataset'), FloatProgress(value=0.0, max=25.0), HTML(value='')))"
      ]
     },
     "metadata": {},
     "output_type": "display_data"
    },
    {
     "name": "stdout",
     "output_type": "stream",
     "text": [
      "\n"
     ]
    },
    {
     "data": {
      "application/vnd.jupyter.widget-view+json": {
       "model_id": "16eb009f952e4fb883f18a3d53bff0a6",
       "version_major": 2,
       "version_minor": 0
      },
      "text/plain": [
       "HBox(children=(HTML(value='Generate report structure'), FloatProgress(value=0.0, max=1.0), HTML(value='')))"
      ]
     },
     "metadata": {},
     "output_type": "display_data"
    },
    {
     "name": "stdout",
     "output_type": "stream",
     "text": [
      "\n"
     ]
    },
    {
     "data": {
      "application/vnd.jupyter.widget-view+json": {
       "model_id": "6d62a2e92bb94d44876c8c19e04ed19e",
       "version_major": 2,
       "version_minor": 0
      },
      "text/plain": [
       "HBox(children=(HTML(value='Render HTML'), FloatProgress(value=0.0, max=1.0), HTML(value='')))"
      ]
     },
     "metadata": {},
     "output_type": "display_data"
    },
    {
     "name": "stdout",
     "output_type": "stream",
     "text": [
      "\n"
     ]
    },
    {
     "data": {
      "application/vnd.jupyter.widget-view+json": {
       "model_id": "45a4a73a5cfb4ba6aa112708ca387658",
       "version_major": 2,
       "version_minor": 0
      },
      "text/plain": [
       "HBox(children=(HTML(value='Export report to file'), FloatProgress(value=0.0, max=1.0), HTML(value='')))"
      ]
     },
     "metadata": {},
     "output_type": "display_data"
    },
    {
     "name": "stdout",
     "output_type": "stream",
     "text": [
      "\n"
     ]
    }
   ],
   "source": [
    "#Profile the data for missing values, skewness\n",
    "profile = ProfileReport(data)\n",
    "profile.to_file(output_file='output.html')"
   ]
  },
  {
   "cell_type": "code",
   "execution_count": 18,
   "metadata": {},
   "outputs": [],
   "source": [
    "#Drop NAs based off data profiling\n",
    "data.dropna(subset = [\"Customer ID\"], inplace=True)"
   ]
  },
  {
   "cell_type": "code",
   "execution_count": 19,
   "metadata": {},
   "outputs": [],
   "source": [
    "#Rename columns for proper nomenclature\n",
    "data.rename(columns={\"Invoice\": \"invoice\", \n",
    "                     \"StockCode\": \"stockcode\", \n",
    "                     \"Description\": \"description\", \n",
    "                     \"Quantity\": \"quantity\", \n",
    "                     \"InvoiceDate\": \"invoice_date\", \n",
    "                     \"Price\": \"price\", \n",
    "                     \"Customer ID\": \"customer_id\", \n",
    "                     \"Country\": \"country\"}, inplace=True)"
   ]
  },
  {
   "cell_type": "code",
   "execution_count": 20,
   "metadata": {},
   "outputs": [],
   "source": [
    "# Filter out all elements that start with 'C'\n",
    "data = data[(data['quantity'] > 0)]"
   ]
  },
  {
   "cell_type": "code",
   "execution_count": 21,
   "metadata": {},
   "outputs": [
    {
     "data": {
      "text/plain": [
       "<bound method DataFrame.info of        invoice stockcode                          description  quantity  \\\n",
       "0       489434     85048  15CM CHRISTMAS GLASS BALL 20 LIGHTS        12   \n",
       "1       489434    79323P                   PINK CHERRY LIGHTS        12   \n",
       "2       489434    79323W                  WHITE CHERRY LIGHTS        12   \n",
       "3       489434     22041         RECORD FRAME 7\" SINGLE SIZE         48   \n",
       "4       489434     21232       STRAWBERRY CERAMIC TRINKET BOX        24   \n",
       "...        ...       ...                                  ...       ...   \n",
       "541905  581587     22899         CHILDREN'S APRON DOLLY GIRL          6   \n",
       "541906  581587     23254        CHILDRENS CUTLERY DOLLY GIRL          4   \n",
       "541907  581587     23255      CHILDRENS CUTLERY CIRCUS PARADE         4   \n",
       "541908  581587     22138        BAKING SET 9 PIECE RETROSPOT          3   \n",
       "541909  581587      POST                              POSTAGE         1   \n",
       "\n",
       "              invoice_date  price  customer_id         country  total_sale  \\\n",
       "0      2009-12-01 07:45:00   6.95      13085.0  United Kingdom       83.40   \n",
       "1      2009-12-01 07:45:00   6.75      13085.0  United Kingdom       81.00   \n",
       "2      2009-12-01 07:45:00   6.75      13085.0  United Kingdom       81.00   \n",
       "3      2009-12-01 07:45:00   2.10      13085.0  United Kingdom      100.80   \n",
       "4      2009-12-01 07:45:00   1.25      13085.0  United Kingdom       30.00   \n",
       "...                    ...    ...          ...             ...         ...   \n",
       "541905 2011-12-09 12:50:00   2.10      12680.0          France       12.60   \n",
       "541906 2011-12-09 12:50:00   4.15      12680.0          France       16.60   \n",
       "541907 2011-12-09 12:50:00   4.15      12680.0          France       16.60   \n",
       "541908 2011-12-09 12:50:00   4.95      12680.0          France       14.85   \n",
       "541909 2011-12-09 12:50:00  18.00      12680.0          France       18.00   \n",
       "\n",
       "              date  \n",
       "0       2009-12-01  \n",
       "1       2009-12-01  \n",
       "2       2009-12-01  \n",
       "3       2009-12-01  \n",
       "4       2009-12-01  \n",
       "...            ...  \n",
       "541905  2011-12-09  \n",
       "541906  2011-12-09  \n",
       "541907  2011-12-09  \n",
       "541908  2011-12-09  \n",
       "541909  2011-12-09  \n",
       "\n",
       "[805620 rows x 10 columns]>"
      ]
     },
     "execution_count": 21,
     "metadata": {},
     "output_type": "execute_result"
    }
   ],
   "source": [
    "#check if previous code was applied\n",
    "data.info"
   ]
  },
  {
   "cell_type": "code",
   "execution_count": 22,
   "metadata": {},
   "outputs": [
    {
     "data": {
      "text/plain": [
       "datetime.date(2009, 12, 1)"
      ]
     },
     "execution_count": 22,
     "metadata": {},
     "output_type": "execute_result"
    }
   ],
   "source": [
    "#find min date\n",
    "min(data.date)"
   ]
  },
  {
   "cell_type": "code",
   "execution_count": 23,
   "metadata": {},
   "outputs": [
    {
     "data": {
      "text/plain": [
       "datetime.date(2011, 12, 9)"
      ]
     },
     "execution_count": 23,
     "metadata": {},
     "output_type": "execute_result"
    }
   ],
   "source": [
    "#find max date\n",
    "max(data.date)"
   ]
  },
  {
   "cell_type": "markdown",
   "metadata": {},
   "source": [
    "### Utility Functions - Going from Transactional to Summary\n",
    "- lifetimes has utility functions that can transform transactional-level data into the data shape we need to fit our models"
   ]
  },
  {
   "cell_type": "code",
   "execution_count": 24,
   "metadata": {},
   "outputs": [],
   "source": [
    "#This utility transforms our transaction-level data into the summary format needed for our models!\n",
    "summary = summary_data_from_transaction_data(data, 'customer_id', 'date', 'total_sale', datetime_format = '%Y-%m-%d', freq = 'D', observation_period_end = '2011-12-09')"
   ]
  },
  {
   "cell_type": "markdown",
   "metadata": {},
   "source": [
    "### Data Columns - Summary Data\n",
    "- customer_id: Unique Customer ID\n",
    "- Frequency: The number of repeat purchases during the time period we are analyzing. A low frequency (low repeat purchases) means a customer bought minimally from us. A high frequency (multiple repeat purchases) means a customer bought frequently from us. In a case where a customer made only 1 purchase, their frequency will be 0. If a customer made 2 purchases on day 1 and 3 purchases on day 3, their frequency will still be 1 despite multiple daily purchases. This results in a single repeat purchase.\n",
    "- Recency: The age (time period) of a customer when they made their most recent purchase. This is measured by the duration between a customer's first purchase and their latest purchase. If a customer made 1 purchase then their recency will be 0.\n",
    "- T: The customer's age (time period), which is the duration between a customer's first purchase and the end of the data set's time period\n",
    "- Monetary_value: represents the average value of a given customer’s purchases. This is equal to the sum of all a customer’s purchases divided by the total number of purchases. Note that the denominator here is different than the frequency described above."
   ]
  },
  {
   "cell_type": "code",
   "execution_count": 25,
   "metadata": {},
   "outputs": [
    {
     "name": "stdout",
     "output_type": "stream",
     "text": [
      "             frequency  recency      T  monetary_value\n",
      "customer_id                                           \n",
      "12346.0            7.0    400.0  725.0    11066.637143\n",
      "12347.0            7.0    402.0  404.0      717.398571\n",
      "12348.0            4.0    363.0  438.0      449.310000\n",
      "12349.0            3.0    571.0  589.0     1120.056667\n",
      "12350.0            0.0      0.0  310.0        0.000000\n"
     ]
    }
   ],
   "source": [
    "#BAM! We have our summary data needed for our models\n",
    "print(summary.head())"
   ]
  },
  {
   "cell_type": "markdown",
   "metadata": {},
   "source": [
    "### Data Understanding\n",
    "- Let's understand our data set a bit more by seeing how many customers there are. We also need to understand how many customers are one-time buyers. According to our distribution below, it appears that 28% of our customers buy from us only once, meaning 3 in 4 customers are repeat buyers. A good sign."
   ]
  },
  {
   "cell_type": "code",
   "execution_count": 26,
   "metadata": {
    "scrolled": false
   },
   "outputs": [
    {
     "name": "stdout",
     "output_type": "stream",
     "text": [
      "count    5881.000000\n",
      "mean        4.630335\n",
      "std        10.001176\n",
      "min         0.000000\n",
      "25%         0.000000\n",
      "50%         2.000000\n",
      "75%         5.000000\n",
      "max       254.000000\n",
      "Name: frequency, dtype: float64\n",
      "-----------------------------------------\n",
      "Percentage of customers who purchase once only (i.e. one-time buyers): 28.77 %\n"
     ]
    },
    {
     "data": {
      "image/png": "[encoded data removed]",
      "text/plain": [
       "<Figure size 864x576 with 1 Axes>"
      ]
     },
     "metadata": {
      "needs_background": "light"
     },
     "output_type": "display_data"
    }
   ],
   "source": [
    "plt.figure(figsize=(12, 8))\n",
    "summary['frequency'].plot(kind='hist', bins = 100)\n",
    "print(summary['frequency'].describe())\n",
    "print(\"-----------------------------------------\")\n",
    "one_time_buyers = round(sum(summary['frequency'] == 0)/float(len(summary))*(100),2)\n",
    "print(\"Percentage of customers who purchase once only (i.e. one-time buyers):\", one_time_buyers, \"%\")"
   ]
  },
  {
   "cell_type": "code",
   "execution_count": 27,
   "metadata": {},
   "outputs": [],
   "source": [
    "# retain only those customers with frequency > 0\n",
    "summary = summary[summary['frequency'] > 0]"
   ]
  },
  {
   "cell_type": "markdown",
   "metadata": {},
   "source": [
    "### Initialize our Model\n",
    "- *In small sample sizes, the model parameters can get large and expand out of control. The `penalize_coef` is there to help control overfitting so that our model can generalize well. L2 regularization forces the weights to be small but does not make them zero. In other words, `penalizer_coef` is the coefficient applied to an l2 normalization on the model's parameters to shrink them. In typical applications, penalizers on the order of 0.001 to 0.1 are effective.  Since our sample is large enough and robust, we'll leave it at 0.*"
   ]
  },
  {
   "cell_type": "code",
   "execution_count": 28,
   "metadata": {},
   "outputs": [],
   "source": [
    "#BG/NBD model for predicting transactions of non-contractual continuous customer bases\n",
    "bgf = BetaGeoFitter(penalizer_coef=0.001)"
   ]
  },
  {
   "cell_type": "markdown",
   "metadata": {},
   "source": [
    "#### BG/NBD Model Assumptions\n",
    "1. *The number of transactions from an active customer can be described using a Poisson distribution where t = time and the rate = lambda*\n",
    "2. *Purchasing behaviour is different among customers and has a Gamma distribution - modeled `r` for shape parameter and `alpha` for scale parameter*\n",
    "3. *Customers can become inactive (stop buying from us) after any transaction. Their inactive point is distributed between purchases with a Geometric distribution and measured using `p`*\n",
    "4. *Heterogeneity in dropout probability has a beta distribution - modeled by `a` and `b`*\n",
    "5. *Transaction rates and dropout probabilities vary independently across user*"
   ]
  },
  {
   "cell_type": "markdown",
   "metadata": {},
   "source": [
    "### Fit the BG/NBD Model\n",
    "- The Beta Geometric / Negative Binomial distribution model (BG/NBD) requires only three data elements to fit the model. `frequency`, `recency` and `T`.\n",
    "- *`r` and `alpha` describe the heterogeneity in transaction rates across customers (i.e., how customers are different in their purchasing behaviour). `a` and `b` describe the heterogenity in dropout rates across customers (i.e., what is the likelihood of a customer dropping out after a purchase). The charts below help us understand the heterogeneity of our customer base.*"
   ]
  },
  {
   "cell_type": "code",
   "execution_count": 29,
   "metadata": {},
   "outputs": [
    {
     "data": {
      "text/plain": [
       "<lifetimes.BetaGeoFitter: fitted with 4189 subjects, a: 0.10, alpha: 103.35, b: 0.97, r: 1.52>"
      ]
     },
     "execution_count": 29,
     "metadata": {},
     "output_type": "execute_result"
    }
   ],
   "source": [
    "bgf.fit(summary['frequency'], summary['recency'], summary['T'])"
   ]
  },
  {
   "cell_type": "code",
   "execution_count": 30,
   "metadata": {},
   "outputs": [
    {
     "data": {
      "text/html": [
       "<div>\n",
       "<style scoped>\n",
       "    .dataframe tbody tr th:only-of-type {\n",
       "        vertical-align: middle;\n",
       "    }\n",
       "\n",
       "    .dataframe tbody tr th {\n",
       "        vertical-align: top;\n",
       "    }\n",
       "\n",
       "    .dataframe thead th {\n",
       "        text-align: right;\n",
       "    }\n",
       "</style>\n",
       "<table border=\"1\" class=\"dataframe\">\n",
       "  <thead>\n",
       "    <tr style=\"text-align: right;\">\n",
       "      <th></th>\n",
       "      <th>coef</th>\n",
       "      <th>se(coef)</th>\n",
       "      <th>lower 95% bound</th>\n",
       "      <th>upper 95% bound</th>\n",
       "    </tr>\n",
       "  </thead>\n",
       "  <tbody>\n",
       "    <tr>\n",
       "      <th>r</th>\n",
       "      <td>1.518839</td>\n",
       "      <td>0.040481</td>\n",
       "      <td>1.439497</td>\n",
       "      <td>1.598180</td>\n",
       "    </tr>\n",
       "    <tr>\n",
       "      <th>alpha</th>\n",
       "      <td>103.350418</td>\n",
       "      <td>3.185288</td>\n",
       "      <td>97.107253</td>\n",
       "      <td>109.593583</td>\n",
       "    </tr>\n",
       "    <tr>\n",
       "      <th>a</th>\n",
       "      <td>0.095663</td>\n",
       "      <td>0.008748</td>\n",
       "      <td>0.078518</td>\n",
       "      <td>0.112808</td>\n",
       "    </tr>\n",
       "    <tr>\n",
       "      <th>b</th>\n",
       "      <td>0.969228</td>\n",
       "      <td>0.115161</td>\n",
       "      <td>0.743512</td>\n",
       "      <td>1.194945</td>\n",
       "    </tr>\n",
       "  </tbody>\n",
       "</table>\n",
       "</div>"
      ],
      "text/plain": [
       "             coef  se(coef)  lower 95% bound  upper 95% bound\n",
       "r        1.518839  0.040481         1.439497         1.598180\n",
       "alpha  103.350418  3.185288        97.107253       109.593583\n",
       "a        0.095663  0.008748         0.078518         0.112808\n",
       "b        0.969228  0.115161         0.743512         1.194945"
      ]
     },
     "execution_count": 30,
     "metadata": {},
     "output_type": "execute_result"
    }
   ],
   "source": [
    "bgf.summary"
   ]
  },
  {
   "cell_type": "markdown",
   "metadata": {},
   "source": [
    "#### Gamma Distribution Histogram\n",
    "- *These are the customers' propensity to purchase as estimated by lambda from the Gamma Distribution. The Gamma distribution is widely used to model continuous variables that are always positive and have skewed distributions.*"
   ]
  },
  {
   "cell_type": "code",
   "execution_count": 31,
   "metadata": {},
   "outputs": [
    {
     "data": {
      "text/plain": [
       "<AxesSubplot:title={'center':'mean: 0.015, var: 0.000'}, xlabel='Transaction Rate', ylabel='Density'>"
      ]
     },
     "execution_count": 31,
     "metadata": {},
     "output_type": "execute_result"
    },
    {
     "data": {
      "image/png": "[encoded data removed]",
      "text/plain": [
       "<Figure size 432x288 with 1 Axes>"
      ]
     },
     "metadata": {
      "needs_background": "light"
     },
     "output_type": "display_data"
    }
   ],
   "source": [
    "#plot the estimated gamma distribution of lambda (customers' propensities to purchase)\n",
    "plot_transaction_rate_heterogeneity(bgf)"
   ]
  },
  {
   "cell_type": "markdown",
   "metadata": {},
   "source": [
    "#### Beta Distribution Histogram\n",
    "- *These are the customers' probabilities of dropping out immediately after a transaction. It's modeled using a Beta distribution (p). A Beta distribution is used to model things that have a limited range, like 0 to 1. Examples are the probability of success in an experiment having only two outcomes, like success and failure. In this case, the probability of a customer not returning for a subsequent purchase.*"
   ]
  },
  {
   "cell_type": "code",
   "execution_count": 32,
   "metadata": {},
   "outputs": [
    {
     "data": {
      "text/plain": [
       "<AxesSubplot:title={'center':'mean: 0.090, var: 0.040'}, xlabel='Dropout Probability p', ylabel='Density'>"
      ]
     },
     "execution_count": 32,
     "metadata": {},
     "output_type": "execute_result"
    },
    {
     "data": {
      "image/png": "[encoded data removed]",
      "text/plain": [
       "<Figure size 432x288 with 1 Axes>"
      ]
     },
     "metadata": {
      "needs_background": "light"
     },
     "output_type": "display_data"
    }
   ],
   "source": [
    "#plot the estimated beta distribution of p, a customers' probability of dropping out immediately after a transaction\n",
    "plot_dropout_rate_heterogeneity(bgf)"
   ]
  },
  {
   "cell_type": "markdown",
   "metadata": {},
   "source": [
    "## 3. Understand Customer Behaviour"
   ]
  },
  {
   "cell_type": "markdown",
   "metadata": {},
   "source": [
    "### Visualizing our Frequency/Recency Matrix"
   ]
  },
  {
   "cell_type": "markdown",
   "metadata": {},
   "source": [
    "#### CHART #1: Expected Number of Future Purchases\n",
    "- The chart below plots the number of transactions a customer is projected to have in the next 30 days.\n",
    "- We notice on the bottom right, customers who bought recently, and who bought frequently over the data set period are expected to have the highest number of purchases (8+) over the next 30 days. This small highligted group represents our BEST customers.\n",
    "- Basically, customers who made multiple repeat purchases but with a **smaller** time difference (lower recency) between their first purchase and their most recent are likely to have disappeared and won't return. (i.e., buying a lot in a small time period)\n",
    "- Customers who made multiple repeat purchases but with a **larger** time difference (higher recency) between their first purchase and their most recent are likely to be your best customers in the future. (i.e., buying a lot and over a larger time period)\n",
    "- Customers in the green-blue-ish area are still likely to make 4-8 purchases in the next 12-months. This group might need a promotion or activation to get them going."
   ]
  },
  {
   "cell_type": "code",
   "execution_count": 33,
   "metadata": {
    "scrolled": false
   },
   "outputs": [
    {
     "data": {
      "text/plain": [
       "<AxesSubplot:title={'center':'Expected Number of Future Purchases for 30 Units of Time,\\nby Frequency and Recency of a Customer'}, xlabel=\"Customer's Historical Frequency\", ylabel=\"Customer's Recency\">"
      ]
     },
     "execution_count": 33,
     "metadata": {},
     "output_type": "execute_result"
    },
    {
     "data": {
      "image/png": "[encoded data removed]",
      "text/plain": [
       "<Figure size 864x576 with 2 Axes>"
      ]
     },
     "metadata": {
      "needs_background": "light"
     },
     "output_type": "display_data"
    }
   ],
   "source": [
    "fig = plt.figure(figsize=(12,8))\n",
    "plot_frequency_recency_matrix(bgf, T = 30)"
   ]
  },
  {
   "cell_type": "markdown",
   "metadata": {},
   "source": [
    "#### CHART #2: Probability of a Customer Being \"Alive\"\n",
    "- The chart below plots the probability of our customer being \"alive\" based on their repeat purchases (frequency) and recency. Intuitively, we notice that customers with a high recency (recent last repeat purchase) have the highest probability of being \"alive\", despite how many purchases they have.\n",
    "- Interestingly enough, if we look across a fixed recency point like 30 and across different frequencies, we notice that customers with the same recency (600) but higher frequency have lower probabilities of being \"alive\". This is not mistake, and in fact a property of the model which illustrates the importance of recency.\n",
    "- Customers who higher amount of repeat purchases, but who don't make them ongoing as time passes (recency) are more likelier to disappear from us as time passes. Basically, they bought a ton from you early on, got what they need, and you never saw them again. Example: Think of home furniture after you move, you'll buy a ton of furniture, couches, chairs, tables, carpets in a condensed period of time, but will probably not return for awhile since you'll have all you need."
   ]
  },
  {
   "cell_type": "code",
   "execution_count": 34,
   "metadata": {
    "scrolled": false
   },
   "outputs": [
    {
     "data": {
      "text/plain": [
       "<AxesSubplot:title={'center':'Probability Customer is Alive,\\nby Frequency and Recency of a Customer'}, xlabel=\"Customer's Historical Frequency\", ylabel=\"Customer's Recency\">"
      ]
     },
     "execution_count": 34,
     "metadata": {},
     "output_type": "execute_result"
    },
    {
     "data": {
      "image/png": "[encoded data removed]",
      "text/plain": [
       "<Figure size 864x576 with 2 Axes>"
      ]
     },
     "metadata": {
      "needs_background": "light"
     },
     "output_type": "display_data"
    }
   ],
   "source": [
    "fig = plt.figure(figsize=(12,8))\n",
    "plot_probability_alive_matrix(bgf)"
   ]
  },
  {
   "cell_type": "markdown",
   "metadata": {},
   "source": [
    "## 4. Predict Customer Transactions"
   ]
  },
  {
   "cell_type": "markdown",
   "metadata": {},
   "source": [
    "### Predict a customer's total transactions in the next 365 days\n",
    "- Next we'll predict the total purchases our customers will make at the individual-level for the next 12 months"
   ]
  },
  {
   "cell_type": "markdown",
   "metadata": {},
   "source": [
    "### Train/Test Split\n",
    "- We'll split our data into train and test and then refit the bgf model to see how it performs against unseen data"
   ]
  },
  {
   "cell_type": "code",
   "execution_count": 35,
   "metadata": {},
   "outputs": [
    {
     "data": {
      "text/html": [
       "<div>\n",
       "<style scoped>\n",
       "    .dataframe tbody tr th:only-of-type {\n",
       "        vertical-align: middle;\n",
       "    }\n",
       "\n",
       "    .dataframe tbody tr th {\n",
       "        vertical-align: top;\n",
       "    }\n",
       "\n",
       "    .dataframe thead th {\n",
       "        text-align: right;\n",
       "    }\n",
       "</style>\n",
       "<table border=\"1\" class=\"dataframe\">\n",
       "  <thead>\n",
       "    <tr style=\"text-align: right;\">\n",
       "      <th></th>\n",
       "      <th>frequency_cal</th>\n",
       "      <th>recency_cal</th>\n",
       "      <th>T_cal</th>\n",
       "      <th>monetary_value_cal</th>\n",
       "      <th>frequency_holdout</th>\n",
       "      <th>monetary_value_holdout</th>\n",
       "      <th>duration_holdout</th>\n",
       "    </tr>\n",
       "    <tr>\n",
       "      <th>customer_id</th>\n",
       "      <th></th>\n",
       "      <th></th>\n",
       "      <th></th>\n",
       "      <th></th>\n",
       "      <th></th>\n",
       "      <th></th>\n",
       "      <th></th>\n",
       "    </tr>\n",
       "  </thead>\n",
       "  <tbody>\n",
       "    <tr>\n",
       "      <th>12346.0</th>\n",
       "      <td>6.0</td>\n",
       "      <td>196.0</td>\n",
       "      <td>382.0</td>\n",
       "      <td>47.143333</td>\n",
       "      <td>1.0</td>\n",
       "      <td>77183.600000</td>\n",
       "      <td>343.0</td>\n",
       "    </tr>\n",
       "    <tr>\n",
       "      <th>12347.0</th>\n",
       "      <td>1.0</td>\n",
       "      <td>37.0</td>\n",
       "      <td>61.0</td>\n",
       "      <td>1423.580000</td>\n",
       "      <td>6.0</td>\n",
       "      <td>23.829205</td>\n",
       "      <td>343.0</td>\n",
       "    </tr>\n",
       "    <tr>\n",
       "      <th>12348.0</th>\n",
       "      <td>1.0</td>\n",
       "      <td>80.0</td>\n",
       "      <td>95.0</td>\n",
       "      <td>892.800000</td>\n",
       "      <td>3.0</td>\n",
       "      <td>64.602857</td>\n",
       "      <td>343.0</td>\n",
       "    </tr>\n",
       "    <tr>\n",
       "      <th>12349.0</th>\n",
       "      <td>2.0</td>\n",
       "      <td>182.0</td>\n",
       "      <td>246.0</td>\n",
       "      <td>801.310000</td>\n",
       "      <td>1.0</td>\n",
       "      <td>24.076027</td>\n",
       "      <td>343.0</td>\n",
       "    </tr>\n",
       "    <tr>\n",
       "      <th>12351.0</th>\n",
       "      <td>0.0</td>\n",
       "      <td>0.0</td>\n",
       "      <td>32.0</td>\n",
       "      <td>0.000000</td>\n",
       "      <td>0.0</td>\n",
       "      <td>0.000000</td>\n",
       "      <td>343.0</td>\n",
       "    </tr>\n",
       "    <tr>\n",
       "      <th>12352.0</th>\n",
       "      <td>1.0</td>\n",
       "      <td>17.0</td>\n",
       "      <td>49.0</td>\n",
       "      <td>200.050000</td>\n",
       "      <td>7.0</td>\n",
       "      <td>29.482824</td>\n",
       "      <td>343.0</td>\n",
       "    </tr>\n",
       "    <tr>\n",
       "      <th>12353.0</th>\n",
       "      <td>0.0</td>\n",
       "      <td>0.0</td>\n",
       "      <td>65.0</td>\n",
       "      <td>0.000000</td>\n",
       "      <td>1.0</td>\n",
       "      <td>22.250000</td>\n",
       "      <td>343.0</td>\n",
       "    </tr>\n",
       "    <tr>\n",
       "      <th>12355.0</th>\n",
       "      <td>0.0</td>\n",
       "      <td>0.0</td>\n",
       "      <td>224.0</td>\n",
       "      <td>0.000000</td>\n",
       "      <td>1.0</td>\n",
       "      <td>35.338462</td>\n",
       "      <td>343.0</td>\n",
       "    </tr>\n",
       "    <tr>\n",
       "      <th>12356.0</th>\n",
       "      <td>2.0</td>\n",
       "      <td>44.0</td>\n",
       "      <td>81.0</td>\n",
       "      <td>1325.905000</td>\n",
       "      <td>3.0</td>\n",
       "      <td>47.651356</td>\n",
       "      <td>343.0</td>\n",
       "    </tr>\n",
       "    <tr>\n",
       "      <th>12357.0</th>\n",
       "      <td>0.0</td>\n",
       "      <td>0.0</td>\n",
       "      <td>45.0</td>\n",
       "      <td>0.000000</td>\n",
       "      <td>1.0</td>\n",
       "      <td>47.386794</td>\n",
       "      <td>343.0</td>\n",
       "    </tr>\n",
       "  </tbody>\n",
       "</table>\n",
       "</div>"
      ],
      "text/plain": [
       "             frequency_cal  recency_cal  T_cal  monetary_value_cal  \\\n",
       "customer_id                                                          \n",
       "12346.0                6.0        196.0  382.0           47.143333   \n",
       "12347.0                1.0         37.0   61.0         1423.580000   \n",
       "12348.0                1.0         80.0   95.0          892.800000   \n",
       "12349.0                2.0        182.0  246.0          801.310000   \n",
       "12351.0                0.0          0.0   32.0            0.000000   \n",
       "12352.0                1.0         17.0   49.0          200.050000   \n",
       "12353.0                0.0          0.0   65.0            0.000000   \n",
       "12355.0                0.0          0.0  224.0            0.000000   \n",
       "12356.0                2.0         44.0   81.0         1325.905000   \n",
       "12357.0                0.0          0.0   45.0            0.000000   \n",
       "\n",
       "             frequency_holdout  monetary_value_holdout  duration_holdout  \n",
       "customer_id                                                               \n",
       "12346.0                    1.0            77183.600000             343.0  \n",
       "12347.0                    6.0               23.829205             343.0  \n",
       "12348.0                    3.0               64.602857             343.0  \n",
       "12349.0                    1.0               24.076027             343.0  \n",
       "12351.0                    0.0                0.000000             343.0  \n",
       "12352.0                    7.0               29.482824             343.0  \n",
       "12353.0                    1.0               22.250000             343.0  \n",
       "12355.0                    1.0               35.338462             343.0  \n",
       "12356.0                    3.0               47.651356             343.0  \n",
       "12357.0                    1.0               47.386794             343.0  "
      ]
     },
     "execution_count": 35,
     "metadata": {},
     "output_type": "execute_result"
    }
   ],
   "source": [
    "#Using the transactional data we can do things like holdout (train and test)\n",
    "data_cal_holdout = calibration_and_holdout_data(data, 'customer_id', 'date', monetary_value_col = 'total_sale', freq = 'D',\n",
    "                                               calibration_period_end = '2010-12-31',\n",
    "                                               observation_period_end = '2011-12-09')\n",
    "data_cal_holdout.head(10)"
   ]
  },
  {
   "cell_type": "markdown",
   "metadata": {},
   "source": [
    "### Refit the Model with Train/Test\n",
    "-  We'll re-fit our model with the trained data and to see how it predicts against unseen data"
   ]
  },
  {
   "cell_type": "code",
   "execution_count": 36,
   "metadata": {},
   "outputs": [],
   "source": [
    "#BG/NBD model for predicting transactions of non-contractual continuous customer bases\n",
    "bgf = BetaGeoFitter(penalizer_coef=0.001)"
   ]
  },
  {
   "cell_type": "code",
   "execution_count": 37,
   "metadata": {},
   "outputs": [
    {
     "data": {
      "text/html": [
       "<div>\n",
       "<style scoped>\n",
       "    .dataframe tbody tr th:only-of-type {\n",
       "        vertical-align: middle;\n",
       "    }\n",
       "\n",
       "    .dataframe tbody tr th {\n",
       "        vertical-align: top;\n",
       "    }\n",
       "\n",
       "    .dataframe thead th {\n",
       "        text-align: right;\n",
       "    }\n",
       "</style>\n",
       "<table border=\"1\" class=\"dataframe\">\n",
       "  <thead>\n",
       "    <tr style=\"text-align: right;\">\n",
       "      <th></th>\n",
       "      <th>coef</th>\n",
       "      <th>se(coef)</th>\n",
       "      <th>lower 95% bound</th>\n",
       "      <th>upper 95% bound</th>\n",
       "    </tr>\n",
       "  </thead>\n",
       "  <tbody>\n",
       "    <tr>\n",
       "      <th>r</th>\n",
       "      <td>0.830871</td>\n",
       "      <td>0.026371</td>\n",
       "      <td>0.779185</td>\n",
       "      <td>0.882557</td>\n",
       "    </tr>\n",
       "    <tr>\n",
       "      <th>alpha</th>\n",
       "      <td>72.469405</td>\n",
       "      <td>2.701931</td>\n",
       "      <td>67.173619</td>\n",
       "      <td>77.765191</td>\n",
       "    </tr>\n",
       "    <tr>\n",
       "      <th>a</th>\n",
       "      <td>0.005760</td>\n",
       "      <td>0.003847</td>\n",
       "      <td>-0.001780</td>\n",
       "      <td>0.013300</td>\n",
       "    </tr>\n",
       "    <tr>\n",
       "      <th>b</th>\n",
       "      <td>0.548897</td>\n",
       "      <td>0.242213</td>\n",
       "      <td>0.074159</td>\n",
       "      <td>1.023634</td>\n",
       "    </tr>\n",
       "  </tbody>\n",
       "</table>\n",
       "</div>"
      ],
      "text/plain": [
       "            coef  se(coef)  lower 95% bound  upper 95% bound\n",
       "r       0.830871  0.026371         0.779185         0.882557\n",
       "alpha  72.469405  2.701931        67.173619        77.765191\n",
       "a       0.005760  0.003847        -0.001780         0.013300\n",
       "b       0.548897  0.242213         0.074159         1.023634"
      ]
     },
     "execution_count": 37,
     "metadata": {},
     "output_type": "execute_result"
    }
   ],
   "source": [
    "#Fit the Model\n",
    "bgf.fit(data_cal_holdout['frequency_cal'], data_cal_holdout['recency_cal'], data_cal_holdout['T_cal'])\n",
    "bgf.summary"
   ]
  },
  {
   "cell_type": "code",
   "execution_count": 38,
   "metadata": {},
   "outputs": [
    {
     "data": {
      "text/html": [
       "<div>\n",
       "<style scoped>\n",
       "    .dataframe tbody tr th:only-of-type {\n",
       "        vertical-align: middle;\n",
       "    }\n",
       "\n",
       "    .dataframe tbody tr th {\n",
       "        vertical-align: top;\n",
       "    }\n",
       "\n",
       "    .dataframe thead th {\n",
       "        text-align: right;\n",
       "    }\n",
       "</style>\n",
       "<table border=\"1\" class=\"dataframe\">\n",
       "  <thead>\n",
       "    <tr style=\"text-align: right;\">\n",
       "      <th></th>\n",
       "      <th>frequency</th>\n",
       "      <th>recency</th>\n",
       "      <th>T</th>\n",
       "      <th>monetary_value</th>\n",
       "      <th>expected_purchases_endof2012</th>\n",
       "    </tr>\n",
       "    <tr>\n",
       "      <th>customer_id</th>\n",
       "      <th></th>\n",
       "      <th></th>\n",
       "      <th></th>\n",
       "      <th></th>\n",
       "      <th></th>\n",
       "    </tr>\n",
       "  </thead>\n",
       "  <tbody>\n",
       "    <tr>\n",
       "      <th>12346.0</th>\n",
       "      <td>7.0</td>\n",
       "      <td>400.0</td>\n",
       "      <td>725.0</td>\n",
       "      <td>11066.637143</td>\n",
       "      <td>3.603793</td>\n",
       "    </tr>\n",
       "    <tr>\n",
       "      <th>12347.0</th>\n",
       "      <td>7.0</td>\n",
       "      <td>402.0</td>\n",
       "      <td>404.0</td>\n",
       "      <td>717.398571</td>\n",
       "      <td>6.341063</td>\n",
       "    </tr>\n",
       "    <tr>\n",
       "      <th>12348.0</th>\n",
       "      <td>4.0</td>\n",
       "      <td>363.0</td>\n",
       "      <td>438.0</td>\n",
       "      <td>449.310000</td>\n",
       "      <td>3.641674</td>\n",
       "    </tr>\n",
       "    <tr>\n",
       "      <th>12349.0</th>\n",
       "      <td>3.0</td>\n",
       "      <td>571.0</td>\n",
       "      <td>589.0</td>\n",
       "      <td>1120.056667</td>\n",
       "      <td>2.231514</td>\n",
       "    </tr>\n",
       "    <tr>\n",
       "      <th>12352.0</th>\n",
       "      <td>8.0</td>\n",
       "      <td>356.0</td>\n",
       "      <td>392.0</td>\n",
       "      <td>338.261250</td>\n",
       "      <td>7.330727</td>\n",
       "    </tr>\n",
       "    <tr>\n",
       "      <th>12353.0</th>\n",
       "      <td>1.0</td>\n",
       "      <td>204.0</td>\n",
       "      <td>408.0</td>\n",
       "      <td>89.000000</td>\n",
       "      <td>1.428880</td>\n",
       "    </tr>\n",
       "    <tr>\n",
       "      <th>12355.0</th>\n",
       "      <td>1.0</td>\n",
       "      <td>353.0</td>\n",
       "      <td>567.0</td>\n",
       "      <td>459.400000</td>\n",
       "      <td>1.081346</td>\n",
       "    </tr>\n",
       "    <tr>\n",
       "      <th>12356.0</th>\n",
       "      <td>5.0</td>\n",
       "      <td>402.0</td>\n",
       "      <td>424.0</td>\n",
       "      <td>1092.648000</td>\n",
       "      <td>4.527911</td>\n",
       "    </tr>\n",
       "    <tr>\n",
       "      <th>12357.0</th>\n",
       "      <td>1.0</td>\n",
       "      <td>355.0</td>\n",
       "      <td>388.0</td>\n",
       "      <td>6207.670000</td>\n",
       "      <td>1.515600</td>\n",
       "    </tr>\n",
       "    <tr>\n",
       "      <th>12358.0</th>\n",
       "      <td>4.0</td>\n",
       "      <td>730.0</td>\n",
       "      <td>731.0</td>\n",
       "      <td>614.310000</td>\n",
       "      <td>2.319565</td>\n",
       "    </tr>\n",
       "  </tbody>\n",
       "</table>\n",
       "</div>"
      ],
      "text/plain": [
       "             frequency  recency      T  monetary_value  \\\n",
       "customer_id                                              \n",
       "12346.0            7.0    400.0  725.0    11066.637143   \n",
       "12347.0            7.0    402.0  404.0      717.398571   \n",
       "12348.0            4.0    363.0  438.0      449.310000   \n",
       "12349.0            3.0    571.0  589.0     1120.056667   \n",
       "12352.0            8.0    356.0  392.0      338.261250   \n",
       "12353.0            1.0    204.0  408.0       89.000000   \n",
       "12355.0            1.0    353.0  567.0      459.400000   \n",
       "12356.0            5.0    402.0  424.0     1092.648000   \n",
       "12357.0            1.0    355.0  388.0     6207.670000   \n",
       "12358.0            4.0    730.0  731.0      614.310000   \n",
       "\n",
       "             expected_purchases_endof2012  \n",
       "customer_id                                \n",
       "12346.0                          3.603793  \n",
       "12347.0                          6.341063  \n",
       "12348.0                          3.641674  \n",
       "12349.0                          2.231514  \n",
       "12352.0                          7.330727  \n",
       "12353.0                          1.428880  \n",
       "12355.0                          1.081346  \n",
       "12356.0                          4.527911  \n",
       "12357.0                          1.515600  \n",
       "12358.0                          2.319565  "
      ]
     },
     "execution_count": 38,
     "metadata": {},
     "output_type": "execute_result"
    }
   ],
   "source": [
    "#Set t to 365+22 days given the data set ends on December 9, 2011. Our data t is in months but can be set to days, weeks, years\n",
    "t=387\n",
    "summary['expected_purchases_endof2012'] = bgf.conditional_expected_number_of_purchases_up_to_time(t, summary['frequency'], summary['recency'], summary['T'])\n",
    "summary.head(10)"
   ]
  },
  {
   "cell_type": "code",
   "execution_count": 39,
   "metadata": {
    "scrolled": false
   },
   "outputs": [
    {
     "data": {
      "text/html": [
       "<div>\n",
       "<style scoped>\n",
       "    .dataframe tbody tr th:only-of-type {\n",
       "        vertical-align: middle;\n",
       "    }\n",
       "\n",
       "    .dataframe tbody tr th {\n",
       "        vertical-align: top;\n",
       "    }\n",
       "\n",
       "    .dataframe thead th {\n",
       "        text-align: right;\n",
       "    }\n",
       "</style>\n",
       "<table border=\"1\" class=\"dataframe\">\n",
       "  <thead>\n",
       "    <tr style=\"text-align: right;\">\n",
       "      <th></th>\n",
       "      <th>frequency</th>\n",
       "      <th>recency</th>\n",
       "      <th>T</th>\n",
       "      <th>monetary_value</th>\n",
       "      <th>expected_purchases_endof2012</th>\n",
       "    </tr>\n",
       "    <tr>\n",
       "      <th>customer_id</th>\n",
       "      <th></th>\n",
       "      <th></th>\n",
       "      <th></th>\n",
       "      <th></th>\n",
       "      <th></th>\n",
       "    </tr>\n",
       "  </thead>\n",
       "  <tbody>\n",
       "    <tr>\n",
       "      <th>12346.0</th>\n",
       "      <td>7.0</td>\n",
       "      <td>400.0</td>\n",
       "      <td>725.0</td>\n",
       "      <td>11066.637143</td>\n",
       "      <td>3.603793</td>\n",
       "    </tr>\n",
       "    <tr>\n",
       "      <th>12347.0</th>\n",
       "      <td>7.0</td>\n",
       "      <td>402.0</td>\n",
       "      <td>404.0</td>\n",
       "      <td>717.398571</td>\n",
       "      <td>6.341063</td>\n",
       "    </tr>\n",
       "    <tr>\n",
       "      <th>12348.0</th>\n",
       "      <td>4.0</td>\n",
       "      <td>363.0</td>\n",
       "      <td>438.0</td>\n",
       "      <td>449.310000</td>\n",
       "      <td>3.641674</td>\n",
       "    </tr>\n",
       "    <tr>\n",
       "      <th>12349.0</th>\n",
       "      <td>3.0</td>\n",
       "      <td>571.0</td>\n",
       "      <td>589.0</td>\n",
       "      <td>1120.056667</td>\n",
       "      <td>2.231514</td>\n",
       "    </tr>\n",
       "    <tr>\n",
       "      <th>12352.0</th>\n",
       "      <td>8.0</td>\n",
       "      <td>356.0</td>\n",
       "      <td>392.0</td>\n",
       "      <td>338.261250</td>\n",
       "      <td>7.330727</td>\n",
       "    </tr>\n",
       "    <tr>\n",
       "      <th>...</th>\n",
       "      <td>...</td>\n",
       "      <td>...</td>\n",
       "      <td>...</td>\n",
       "      <td>...</td>\n",
       "      <td>...</td>\n",
       "    </tr>\n",
       "    <tr>\n",
       "      <th>18281.0</th>\n",
       "      <td>1.0</td>\n",
       "      <td>397.0</td>\n",
       "      <td>577.0</td>\n",
       "      <td>80.820000</td>\n",
       "      <td>1.067985</td>\n",
       "    </tr>\n",
       "    <tr>\n",
       "      <th>18282.0</th>\n",
       "      <td>1.0</td>\n",
       "      <td>119.0</td>\n",
       "      <td>126.0</td>\n",
       "      <td>77.840000</td>\n",
       "      <td>3.510399</td>\n",
       "    </tr>\n",
       "    <tr>\n",
       "      <th>18283.0</th>\n",
       "      <td>18.0</td>\n",
       "      <td>655.0</td>\n",
       "      <td>658.0</td>\n",
       "      <td>146.405556</td>\n",
       "      <td>9.959148</td>\n",
       "    </tr>\n",
       "    <tr>\n",
       "      <th>18286.0</th>\n",
       "      <td>1.0</td>\n",
       "      <td>247.0</td>\n",
       "      <td>723.0</td>\n",
       "      <td>833.480000</td>\n",
       "      <td>0.841930</td>\n",
       "    </tr>\n",
       "    <tr>\n",
       "      <th>18287.0</th>\n",
       "      <td>5.0</td>\n",
       "      <td>529.0</td>\n",
       "      <td>571.0</td>\n",
       "      <td>622.276000</td>\n",
       "      <td>3.494163</td>\n",
       "    </tr>\n",
       "  </tbody>\n",
       "</table>\n",
       "<p>4189 rows × 5 columns</p>\n",
       "</div>"
      ],
      "text/plain": [
       "             frequency  recency      T  monetary_value  \\\n",
       "customer_id                                              \n",
       "12346.0            7.0    400.0  725.0    11066.637143   \n",
       "12347.0            7.0    402.0  404.0      717.398571   \n",
       "12348.0            4.0    363.0  438.0      449.310000   \n",
       "12349.0            3.0    571.0  589.0     1120.056667   \n",
       "12352.0            8.0    356.0  392.0      338.261250   \n",
       "...                ...      ...    ...             ...   \n",
       "18281.0            1.0    397.0  577.0       80.820000   \n",
       "18282.0            1.0    119.0  126.0       77.840000   \n",
       "18283.0           18.0    655.0  658.0      146.405556   \n",
       "18286.0            1.0    247.0  723.0      833.480000   \n",
       "18287.0            5.0    529.0  571.0      622.276000   \n",
       "\n",
       "             expected_purchases_endof2012  \n",
       "customer_id                                \n",
       "12346.0                          3.603793  \n",
       "12347.0                          6.341063  \n",
       "12348.0                          3.641674  \n",
       "12349.0                          2.231514  \n",
       "12352.0                          7.330727  \n",
       "...                                   ...  \n",
       "18281.0                          1.067985  \n",
       "18282.0                          3.510399  \n",
       "18283.0                          9.959148  \n",
       "18286.0                          0.841930  \n",
       "18287.0                          3.494163  \n",
       "\n",
       "[4189 rows x 5 columns]"
      ]
     },
     "execution_count": 39,
     "metadata": {},
     "output_type": "execute_result"
    }
   ],
   "source": [
    "summary"
   ]
  },
  {
   "cell_type": "markdown",
   "metadata": {},
   "source": [
    "### Model Validation\n",
    "- To quickly validate our model's accuracy we'll plot the actuals vs predicted. We see that it comes really close in predicting the number of purchases a customer will make. Overall, the model does an excellent job."
   ]
  },
  {
   "cell_type": "markdown",
   "metadata": {},
   "source": [
    "### 1) Calibration Period Histogram\n",
    "#### Key Measurement: Does the model fit the data?\n",
    "- This chart tells us that for this collection of customers, how many purchases did they make during the observation period, and what does our model predict\n",
    "- We notice that the model generally captures the amount of transactions well with some under/overfitting in certain transaction buckets"
   ]
  },
  {
   "cell_type": "code",
   "execution_count": 40,
   "metadata": {
    "scrolled": false
   },
   "outputs": [
    {
     "data": {
      "text/plain": [
       "<AxesSubplot:title={'center':'Frequency of Repeat Transactions'}, xlabel='Number of Calibration Period Transactions', ylabel='Customers'>"
      ]
     },
     "execution_count": 40,
     "metadata": {},
     "output_type": "execute_result"
    },
    {
     "data": {
      "image/png": "[encoded data removed]",
      "text/plain": [
       "<Figure size 1728x864 with 1 Axes>"
      ]
     },
     "metadata": {
      "needs_background": "light"
     },
     "output_type": "display_data"
    }
   ],
   "source": [
    "plot_period_transactions(bgf, max_frequency = 20, figsize=(24,12))"
   ]
  },
  {
   "cell_type": "markdown",
   "metadata": {},
   "source": [
    "### 2) Cumulative Transaction Plot\n",
    "#### Key Measurement: Does the model predict cumulative sales well?\n",
    "- The plot uses the calibration period (training) to predict out-of-sample period (test). We prefer looking at a cumulative picture as opposed to week-to-week or daily because it smooths out all the ups and downs and noise. We want to see that our model generally captures the trend well. We can see that our model predicts cumulative purchases in and out of sample extremely well."
   ]
  },
  {
   "cell_type": "code",
   "execution_count": 41,
   "metadata": {},
   "outputs": [
    {
     "data": {
      "image/png": "[encoded data removed]",
      "text/plain": [
       "<Figure size 864x576 with 1 Axes>"
      ]
     },
     "metadata": {
      "needs_background": "light"
     },
     "output_type": "display_data"
    }
   ],
   "source": [
    "plot_cumulative_transactions(bgf, data, 'date', 'customer_id', 738, 395, freq  = 'D', xlabel = 'days', figsize=(12,8));"
   ]
  },
  {
   "cell_type": "markdown",
   "metadata": {},
   "source": [
    "### 3) Incremental Transaction Plot\n",
    "#### Key Measurement: Does the model capture the overall trend in transactions?\n",
    "- In this chart we see the DTC promotions, we see market events, the ups and downs (i.e. seasonality), and in any given week, our model is terrible. Often what we see in Machine Learning models is that they'll tend to overfit trying to predict the ups and downs. However in the context of CLV, we don't care about noise, we care about capturing that overall baseline and being able to project over long periods of time. The other stuff is just temporary and transient things but not necessarily fundamental changes in behaviour. In this case we see a higher peak towards the end of Year 2 vs. Year 1. The predicted line follows suit by trending higher around that same period compared to previous year."
   ]
  },
  {
   "cell_type": "code",
   "execution_count": 42,
   "metadata": {},
   "outputs": [
    {
     "data": {
      "image/png": "[encoded data removed]",
      "text/plain": [
       "<Figure size 864x576 with 1 Axes>"
      ]
     },
     "metadata": {
      "needs_background": "light"
     },
     "output_type": "display_data"
    }
   ],
   "source": [
    "plot_incremental_transactions(bgf, data, 'date', 'customer_id', 738, 395, freq  = 'D', xlabel = 'days', figsize=(12,8));"
   ]
  },
  {
   "cell_type": "markdown",
   "metadata": {},
   "source": [
    "### 4) Conditional Expectations Plot\n",
    "#### Key Measurement: Can the model predict the number of purchases a customer will make based on the training data?\n",
    "- Reminder: Calibration = Training, Holdout = Test\n",
    "- This is arguably the most important plot. The wrong way to think about customer purchase behaviour would be to say if a customer purchased 3 times previously, then they must purchase 3 times in the future. This isn't always the case. Sales patterns always change\n",
    "- This plot shows the actual number of purchases made in the calibration and holdout periods and plots it against the predicted purchases made in both periods\n",
    "- If this chart is accurate, this gives us the ability to start drilling down and to start making different statements about our customers to say who are the good customers and who are the not so good customers and how important it is for us to be accurate about all of them\n",
    "- The model does incredibly well at predicting using out-of-sample data."
   ]
  },
  {
   "cell_type": "code",
   "execution_count": 43,
   "metadata": {
    "scrolled": false
   },
   "outputs": [
    {
     "name": "stderr",
     "output_type": "stream",
     "text": [
      "/opt/anaconda3/lib/python3.7/site-packages/pandas/core/series.py:726: RuntimeWarning: invalid value encountered in log\n",
      "  result = getattr(ufunc, method)(*inputs, **kwargs)\n"
     ]
    },
    {
     "data": {
      "text/plain": [
       "<AxesSubplot:title={'center':'Actual Purchases in Holdout Period vs Predicted Purchases'}, xlabel='Purchases in calibration period', ylabel='Average of Purchases in Holdout Period'>"
      ]
     },
     "execution_count": 43,
     "metadata": {},
     "output_type": "execute_result"
    },
    {
     "data": {
      "image/png": "[encoded data removed]",
      "text/plain": [
       "<Figure size 864x576 with 1 Axes>"
      ]
     },
     "metadata": {
      "needs_background": "light"
     },
     "output_type": "display_data"
    }
   ],
   "source": [
    "plot_calibration_purchases_vs_holdout_purchases(bgf, data_cal_holdout, n = 25, figsize=(12,8))"
   ]
  },
  {
   "cell_type": "markdown",
   "metadata": {},
   "source": [
    "### Discussion on Predicting Transactions\n",
    "- Up until now we've only predicted the number of transactions per customer, which looks to be very accurate according to our model. However, we haven't predicted their transaction values which will lead us to predicting their customer lifetime value. To do this, we'll need to use the Gamma-Gamma model"
   ]
  },
  {
   "cell_type": "markdown",
   "metadata": {},
   "source": [
    "## 5. Predicting Customer Lifetime Value"
   ]
  },
  {
   "cell_type": "markdown",
   "metadata": {},
   "source": [
    "- To predict CLV we'll need to remove customers who are one-time purchasers since it'll be really hard for our model to estimate customer who haven't had a repeat purchase. Our models will start calculating CLV upon their 1st repeat purchase. We also remove any records with negatives (i.e. returns) since our model cannot handle values below 0."
   ]
  },
  {
   "cell_type": "code",
   "execution_count": 44,
   "metadata": {},
   "outputs": [],
   "source": [
    "#Remove all one-time purchasers\n",
    "returning_customers_summary = summary[summary['monetary_value']>0]"
   ]
  },
  {
   "cell_type": "code",
   "execution_count": 45,
   "metadata": {
    "scrolled": true
   },
   "outputs": [
    {
     "data": {
      "text/html": [
       "<div>\n",
       "<style scoped>\n",
       "    .dataframe tbody tr th:only-of-type {\n",
       "        vertical-align: middle;\n",
       "    }\n",
       "\n",
       "    .dataframe tbody tr th {\n",
       "        vertical-align: top;\n",
       "    }\n",
       "\n",
       "    .dataframe thead th {\n",
       "        text-align: right;\n",
       "    }\n",
       "</style>\n",
       "<table border=\"1\" class=\"dataframe\">\n",
       "  <thead>\n",
       "    <tr style=\"text-align: right;\">\n",
       "      <th></th>\n",
       "      <th>frequency</th>\n",
       "      <th>recency</th>\n",
       "      <th>T</th>\n",
       "      <th>monetary_value</th>\n",
       "      <th>expected_purchases_endof2012</th>\n",
       "    </tr>\n",
       "    <tr>\n",
       "      <th>customer_id</th>\n",
       "      <th></th>\n",
       "      <th></th>\n",
       "      <th></th>\n",
       "      <th></th>\n",
       "      <th></th>\n",
       "    </tr>\n",
       "  </thead>\n",
       "  <tbody>\n",
       "    <tr>\n",
       "      <th>12346.0</th>\n",
       "      <td>7.0</td>\n",
       "      <td>400.0</td>\n",
       "      <td>725.0</td>\n",
       "      <td>11066.637143</td>\n",
       "      <td>3.603793</td>\n",
       "    </tr>\n",
       "    <tr>\n",
       "      <th>12347.0</th>\n",
       "      <td>7.0</td>\n",
       "      <td>402.0</td>\n",
       "      <td>404.0</td>\n",
       "      <td>717.398571</td>\n",
       "      <td>6.341063</td>\n",
       "    </tr>\n",
       "    <tr>\n",
       "      <th>12348.0</th>\n",
       "      <td>4.0</td>\n",
       "      <td>363.0</td>\n",
       "      <td>438.0</td>\n",
       "      <td>449.310000</td>\n",
       "      <td>3.641674</td>\n",
       "    </tr>\n",
       "    <tr>\n",
       "      <th>12349.0</th>\n",
       "      <td>3.0</td>\n",
       "      <td>571.0</td>\n",
       "      <td>589.0</td>\n",
       "      <td>1120.056667</td>\n",
       "      <td>2.231514</td>\n",
       "    </tr>\n",
       "    <tr>\n",
       "      <th>12352.0</th>\n",
       "      <td>8.0</td>\n",
       "      <td>356.0</td>\n",
       "      <td>392.0</td>\n",
       "      <td>338.261250</td>\n",
       "      <td>7.330727</td>\n",
       "    </tr>\n",
       "    <tr>\n",
       "      <th>12353.0</th>\n",
       "      <td>1.0</td>\n",
       "      <td>204.0</td>\n",
       "      <td>408.0</td>\n",
       "      <td>89.000000</td>\n",
       "      <td>1.428880</td>\n",
       "    </tr>\n",
       "    <tr>\n",
       "      <th>12355.0</th>\n",
       "      <td>1.0</td>\n",
       "      <td>353.0</td>\n",
       "      <td>567.0</td>\n",
       "      <td>459.400000</td>\n",
       "      <td>1.081346</td>\n",
       "    </tr>\n",
       "    <tr>\n",
       "      <th>12356.0</th>\n",
       "      <td>5.0</td>\n",
       "      <td>402.0</td>\n",
       "      <td>424.0</td>\n",
       "      <td>1092.648000</td>\n",
       "      <td>4.527911</td>\n",
       "    </tr>\n",
       "    <tr>\n",
       "      <th>12357.0</th>\n",
       "      <td>1.0</td>\n",
       "      <td>355.0</td>\n",
       "      <td>388.0</td>\n",
       "      <td>6207.670000</td>\n",
       "      <td>1.515600</td>\n",
       "    </tr>\n",
       "    <tr>\n",
       "      <th>12358.0</th>\n",
       "      <td>4.0</td>\n",
       "      <td>730.0</td>\n",
       "      <td>731.0</td>\n",
       "      <td>614.310000</td>\n",
       "      <td>2.319565</td>\n",
       "    </tr>\n",
       "  </tbody>\n",
       "</table>\n",
       "</div>"
      ],
      "text/plain": [
       "             frequency  recency      T  monetary_value  \\\n",
       "customer_id                                              \n",
       "12346.0            7.0    400.0  725.0    11066.637143   \n",
       "12347.0            7.0    402.0  404.0      717.398571   \n",
       "12348.0            4.0    363.0  438.0      449.310000   \n",
       "12349.0            3.0    571.0  589.0     1120.056667   \n",
       "12352.0            8.0    356.0  392.0      338.261250   \n",
       "12353.0            1.0    204.0  408.0       89.000000   \n",
       "12355.0            1.0    353.0  567.0      459.400000   \n",
       "12356.0            5.0    402.0  424.0     1092.648000   \n",
       "12357.0            1.0    355.0  388.0     6207.670000   \n",
       "12358.0            4.0    730.0  731.0      614.310000   \n",
       "\n",
       "             expected_purchases_endof2012  \n",
       "customer_id                                \n",
       "12346.0                          3.603793  \n",
       "12347.0                          6.341063  \n",
       "12348.0                          3.641674  \n",
       "12349.0                          2.231514  \n",
       "12352.0                          7.330727  \n",
       "12353.0                          1.428880  \n",
       "12355.0                          1.081346  \n",
       "12356.0                          4.527911  \n",
       "12357.0                          1.515600  \n",
       "12358.0                          2.319565  "
      ]
     },
     "execution_count": 45,
     "metadata": {},
     "output_type": "execute_result"
    }
   ],
   "source": [
    "#Check the data\n",
    "returning_customers_summary.head(10)"
   ]
  },
  {
   "cell_type": "markdown",
   "metadata": {},
   "source": [
    "- From this, we can see that customer 12347 made 7 repeat purchases, has a recency of 402 days and customer age of 404 days meaning they've been a customer for 404 days, and last purchased on the 402nd day meaning we've recently \"seen\" them. They're predicted to make ~6 purchases in the next year."
   ]
  },
  {
   "cell_type": "markdown",
   "metadata": {},
   "source": [
    "### Test for Independence\n",
    "- When using the Gamma-Gamma model, there's an important assumption that there is no relationship between the customer's monetary value and frequency, that is, they are independent of each other\n",
    "- Our pearson correlation test reveals that the correlation is very weak and therefore the assumptions holds and we can move forward"
   ]
  },
  {
   "cell_type": "code",
   "execution_count": 46,
   "metadata": {},
   "outputs": [
    {
     "data": {
      "text/html": [
       "<div>\n",
       "<style scoped>\n",
       "    .dataframe tbody tr th:only-of-type {\n",
       "        vertical-align: middle;\n",
       "    }\n",
       "\n",
       "    .dataframe tbody tr th {\n",
       "        vertical-align: top;\n",
       "    }\n",
       "\n",
       "    .dataframe thead th {\n",
       "        text-align: right;\n",
       "    }\n",
       "</style>\n",
       "<table border=\"1\" class=\"dataframe\">\n",
       "  <thead>\n",
       "    <tr style=\"text-align: right;\">\n",
       "      <th></th>\n",
       "      <th>monetary_value</th>\n",
       "      <th>frequency</th>\n",
       "    </tr>\n",
       "  </thead>\n",
       "  <tbody>\n",
       "    <tr>\n",
       "      <th>monetary_value</th>\n",
       "      <td>1.000000</td>\n",
       "      <td>0.023223</td>\n",
       "    </tr>\n",
       "    <tr>\n",
       "      <th>frequency</th>\n",
       "      <td>0.023223</td>\n",
       "      <td>1.000000</td>\n",
       "    </tr>\n",
       "  </tbody>\n",
       "</table>\n",
       "</div>"
      ],
      "text/plain": [
       "                monetary_value  frequency\n",
       "monetary_value        1.000000   0.023223\n",
       "frequency             0.023223   1.000000"
      ]
     },
     "execution_count": 46,
     "metadata": {},
     "output_type": "execute_result"
    }
   ],
   "source": [
    "#Run Pearson Correlation\n",
    "returning_customers_summary[['monetary_value', 'frequency']].corr()"
   ]
  },
  {
   "cell_type": "code",
   "execution_count": 47,
   "metadata": {},
   "outputs": [],
   "source": [
    "#Initialize the Model\n",
    "ggf = GammaGammaFitter(penalizer_coef = 0)"
   ]
  },
  {
   "cell_type": "code",
   "execution_count": 48,
   "metadata": {},
   "outputs": [
    {
     "data": {
      "text/plain": [
       "<lifetimes.GammaGammaFitter: fitted with 4189 subjects, p: 2.13, q: 3.53, v: 486.53>"
      ]
     },
     "execution_count": 48,
     "metadata": {},
     "output_type": "execute_result"
    }
   ],
   "source": [
    "#Fit our GG model with Frequency and Monetary Value\n",
    "ggf.fit(returning_customers_summary['frequency'],\n",
    "        returning_customers_summary['monetary_value'])"
   ]
  },
  {
   "cell_type": "code",
   "execution_count": 49,
   "metadata": {},
   "outputs": [
    {
     "data": {
      "text/plain": [
       "customer_id\n",
       "12346.0    9520.529482\n",
       "12347.0     672.740683\n",
       "12348.0     440.212758\n",
       "12349.0     918.531323\n",
       "12352.0     347.481829\n",
       "12353.0     263.054511\n",
       "12355.0     432.350492\n",
       "12356.0     961.519741\n",
       "12357.0    3059.669630\n",
       "12358.0     567.432251\n",
       "dtype: float64"
      ]
     },
     "execution_count": 49,
     "metadata": {},
     "output_type": "execute_result"
    }
   ],
   "source": [
    "#The method is poorly named since profit implies a cost, here we are simply calculating a customer's average transaction value over the customer's lifetime\n",
    "conditional_expected_sales = ggf.conditional_expected_average_profit(summary['frequency'], \n",
    "                                                                     summary['monetary_value'])\n",
    "conditional_expected_sales.head(10)"
   ]
  },
  {
   "cell_type": "code",
   "execution_count": 50,
   "metadata": {},
   "outputs": [
    {
     "name": "stdout",
     "output_type": "stream",
     "text": [
      "Average Transaction Value for each Customer: $ 436.5948688551693\n"
     ]
    }
   ],
   "source": [
    "#Calculate the average transaction value for our entire customer base\n",
    "print(\"Average Transaction Value for each Customer:\", \"$\", conditional_expected_sales.mean())"
   ]
  },
  {
   "cell_type": "code",
   "execution_count": 51,
   "metadata": {},
   "outputs": [
    {
     "data": {
      "text/plain": [
       "<lifetimes.BetaGeoFitter: fitted with 4189 subjects, a: 0.10, alpha: 103.35, b: 0.97, r: 1.52>"
      ]
     },
     "execution_count": 51,
     "metadata": {},
     "output_type": "execute_result"
    }
   ],
   "source": [
    "#We're going to refit our model with our original summary data set now that we've proven it's out of sample accuracy\n",
    "bgf.fit(summary['frequency'], summary['recency'], summary['T'])"
   ]
  },
  {
   "cell_type": "code",
   "execution_count": 52,
   "metadata": {},
   "outputs": [
    {
     "data": {
      "text/html": [
       "<div>\n",
       "<style scoped>\n",
       "    .dataframe tbody tr th:only-of-type {\n",
       "        vertical-align: middle;\n",
       "    }\n",
       "\n",
       "    .dataframe tbody tr th {\n",
       "        vertical-align: top;\n",
       "    }\n",
       "\n",
       "    .dataframe thead th {\n",
       "        text-align: right;\n",
       "    }\n",
       "</style>\n",
       "<table border=\"1\" class=\"dataframe\">\n",
       "  <thead>\n",
       "    <tr style=\"text-align: right;\">\n",
       "      <th></th>\n",
       "      <th>frequency</th>\n",
       "      <th>recency</th>\n",
       "      <th>T</th>\n",
       "      <th>monetary_value</th>\n",
       "      <th>expected_purchases_endof2012</th>\n",
       "      <th>expected_clv_endof2012</th>\n",
       "    </tr>\n",
       "    <tr>\n",
       "      <th>customer_id</th>\n",
       "      <th></th>\n",
       "      <th></th>\n",
       "      <th></th>\n",
       "      <th></th>\n",
       "      <th></th>\n",
       "      <th></th>\n",
       "    </tr>\n",
       "  </thead>\n",
       "  <tbody>\n",
       "    <tr>\n",
       "      <th>12346.0</th>\n",
       "      <td>7.0</td>\n",
       "      <td>400.0</td>\n",
       "      <td>725.0</td>\n",
       "      <td>11066.637143</td>\n",
       "      <td>3.603793</td>\n",
       "      <td>16552.591131</td>\n",
       "    </tr>\n",
       "    <tr>\n",
       "      <th>12347.0</th>\n",
       "      <td>7.0</td>\n",
       "      <td>402.0</td>\n",
       "      <td>404.0</td>\n",
       "      <td>717.398571</td>\n",
       "      <td>6.341063</td>\n",
       "      <td>3644.411685</td>\n",
       "    </tr>\n",
       "    <tr>\n",
       "      <th>12348.0</th>\n",
       "      <td>4.0</td>\n",
       "      <td>363.0</td>\n",
       "      <td>438.0</td>\n",
       "      <td>449.310000</td>\n",
       "      <td>3.641674</td>\n",
       "      <td>1391.121371</td>\n",
       "    </tr>\n",
       "    <tr>\n",
       "      <th>12349.0</th>\n",
       "      <td>3.0</td>\n",
       "      <td>571.0</td>\n",
       "      <td>589.0</td>\n",
       "      <td>1120.056667</td>\n",
       "      <td>2.231514</td>\n",
       "      <td>1900.539146</td>\n",
       "    </tr>\n",
       "    <tr>\n",
       "      <th>12352.0</th>\n",
       "      <td>8.0</td>\n",
       "      <td>356.0</td>\n",
       "      <td>392.0</td>\n",
       "      <td>338.261250</td>\n",
       "      <td>7.330727</td>\n",
       "      <td>2132.064800</td>\n",
       "    </tr>\n",
       "    <tr>\n",
       "      <th>12353.0</th>\n",
       "      <td>1.0</td>\n",
       "      <td>204.0</td>\n",
       "      <td>408.0</td>\n",
       "      <td>89.000000</td>\n",
       "      <td>1.428880</td>\n",
       "      <td>309.168757</td>\n",
       "    </tr>\n",
       "    <tr>\n",
       "      <th>12355.0</th>\n",
       "      <td>1.0</td>\n",
       "      <td>353.0</td>\n",
       "      <td>567.0</td>\n",
       "      <td>459.400000</td>\n",
       "      <td>1.081346</td>\n",
       "      <td>420.580099</td>\n",
       "    </tr>\n",
       "    <tr>\n",
       "      <th>12356.0</th>\n",
       "      <td>5.0</td>\n",
       "      <td>402.0</td>\n",
       "      <td>424.0</td>\n",
       "      <td>1092.648000</td>\n",
       "      <td>4.527911</td>\n",
       "      <td>3791.558870</td>\n",
       "    </tr>\n",
       "    <tr>\n",
       "      <th>12357.0</th>\n",
       "      <td>1.0</td>\n",
       "      <td>355.0</td>\n",
       "      <td>388.0</td>\n",
       "      <td>6207.670000</td>\n",
       "      <td>1.515600</td>\n",
       "      <td>4533.929046</td>\n",
       "    </tr>\n",
       "    <tr>\n",
       "      <th>12358.0</th>\n",
       "      <td>4.0</td>\n",
       "      <td>730.0</td>\n",
       "      <td>731.0</td>\n",
       "      <td>614.310000</td>\n",
       "      <td>2.319565</td>\n",
       "      <td>1210.015444</td>\n",
       "    </tr>\n",
       "  </tbody>\n",
       "</table>\n",
       "</div>"
      ],
      "text/plain": [
       "             frequency  recency      T  monetary_value  \\\n",
       "customer_id                                              \n",
       "12346.0            7.0    400.0  725.0    11066.637143   \n",
       "12347.0            7.0    402.0  404.0      717.398571   \n",
       "12348.0            4.0    363.0  438.0      449.310000   \n",
       "12349.0            3.0    571.0  589.0     1120.056667   \n",
       "12352.0            8.0    356.0  392.0      338.261250   \n",
       "12353.0            1.0    204.0  408.0       89.000000   \n",
       "12355.0            1.0    353.0  567.0      459.400000   \n",
       "12356.0            5.0    402.0  424.0     1092.648000   \n",
       "12357.0            1.0    355.0  388.0     6207.670000   \n",
       "12358.0            4.0    730.0  731.0      614.310000   \n",
       "\n",
       "             expected_purchases_endof2012  expected_clv_endof2012  \n",
       "customer_id                                                        \n",
       "12346.0                          3.603793            16552.591131  \n",
       "12347.0                          6.341063             3644.411685  \n",
       "12348.0                          3.641674             1391.121371  \n",
       "12349.0                          2.231514             1900.539146  \n",
       "12352.0                          7.330727             2132.064800  \n",
       "12353.0                          1.428880              309.168757  \n",
       "12355.0                          1.081346              420.580099  \n",
       "12356.0                          4.527911             3791.558870  \n",
       "12357.0                          1.515600             4533.929046  \n",
       "12358.0                          2.319565             1210.015444  "
      ]
     },
     "execution_count": 52,
     "metadata": {},
     "output_type": "execute_result"
    }
   ],
   "source": [
    "#Compute each customer's lifetime value for the end of 2012 using 6% annual discount rate\n",
    "returning_customers_summary['expected_clv_endof2012'] = ggf.customer_lifetime_value(bgf, \n",
    "                                  summary['frequency'], \n",
    "                                  summary['recency'], \n",
    "                                  summary['T'], \n",
    "                                  summary['monetary_value'],\n",
    "                                time=12, \n",
    "                                discount_rate=0.01,                 \n",
    "                                 )\n",
    "returning_customers_summary.head(10)"
   ]
  },
  {
   "cell_type": "code",
   "execution_count": 53,
   "metadata": {},
   "outputs": [],
   "source": [
    "# Calculate probability of being currently alive and assign to each Customer\n",
    "returning_customers_summary['p_alive'] = bgf.conditional_probability_alive(returning_customers_summary['frequency'], returning_customers_summary['recency'], returning_customers_summary['T'])"
   ]
  },
  {
   "cell_type": "code",
   "execution_count": 54,
   "metadata": {},
   "outputs": [
    {
     "data": {
      "image/png": "[encoded data removed]",
      "text/plain": [
       "<Figure size 432x288 with 1 Axes>"
      ]
     },
     "metadata": {
      "needs_background": "light"
     },
     "output_type": "display_data"
    }
   ],
   "source": [
    "#plot the distribution of customers\n",
    "#Most are active but there is a portion that is close to churning or have churned\n",
    "sns.distplot(returning_customers_summary['p_alive']);"
   ]
  },
  {
   "cell_type": "code",
   "execution_count": 55,
   "metadata": {},
   "outputs": [
    {
     "data": {
      "text/plain": [
       "Not Churned        3178\n",
       "Churned             608\n",
       "High Churn Risk     403\n",
       "Name: churn, dtype: int64"
      ]
     },
     "execution_count": 55,
     "metadata": {},
     "output_type": "execute_result"
    }
   ],
   "source": [
    "#Generate churn statistics\n",
    "returning_customers_summary['churn'] = ['Churned' if p_alive < 0.5 else 'Not Churned' for p_alive in returning_customers_summary['p_alive']]\n",
    "returning_customers_summary['churn'][(returning_customers_summary['p_alive'] >= 0.5) & (returning_customers_summary['p_alive'] < 0.75)] = \"High Churn Risk\"\n",
    "returning_customers_summary['churn'].value_counts()"
   ]
  },
  {
   "cell_type": "code",
   "execution_count": 56,
   "metadata": {},
   "outputs": [],
   "source": [
    "# Using the Gamma-Gamma model, we can estimate the average transaction value for each customer over their lifetime\n",
    "returning_customers_summary['estimated_transaction_value'] = ggf.conditional_expected_average_profit(returning_customers_summary['frequency'], returning_customers_summary['monetary_value'])"
   ]
  },
  {
   "cell_type": "code",
   "execution_count": 57,
   "metadata": {},
   "outputs": [
    {
     "data": {
      "text/html": [
       "<div>\n",
       "<style scoped>\n",
       "    .dataframe tbody tr th:only-of-type {\n",
       "        vertical-align: middle;\n",
       "    }\n",
       "\n",
       "    .dataframe tbody tr th {\n",
       "        vertical-align: top;\n",
       "    }\n",
       "\n",
       "    .dataframe thead th {\n",
       "        text-align: right;\n",
       "    }\n",
       "</style>\n",
       "<table border=\"1\" class=\"dataframe\">\n",
       "  <thead>\n",
       "    <tr style=\"text-align: right;\">\n",
       "      <th></th>\n",
       "      <th>frequency</th>\n",
       "      <th>recency</th>\n",
       "      <th>T</th>\n",
       "      <th>monetary_value</th>\n",
       "      <th>expected_purchases_endof2012</th>\n",
       "      <th>expected_clv_endof2012</th>\n",
       "      <th>p_alive</th>\n",
       "      <th>churn</th>\n",
       "      <th>estimated_transaction_value</th>\n",
       "    </tr>\n",
       "    <tr>\n",
       "      <th>customer_id</th>\n",
       "      <th></th>\n",
       "      <th></th>\n",
       "      <th></th>\n",
       "      <th></th>\n",
       "      <th></th>\n",
       "      <th></th>\n",
       "      <th></th>\n",
       "      <th></th>\n",
       "      <th></th>\n",
       "    </tr>\n",
       "  </thead>\n",
       "  <tbody>\n",
       "    <tr>\n",
       "      <th>12346.0</th>\n",
       "      <td>7.0</td>\n",
       "      <td>400.0</td>\n",
       "      <td>725.0</td>\n",
       "      <td>11066.637143</td>\n",
       "      <td>3.603793</td>\n",
       "      <td>16552.591131</td>\n",
       "      <td>0.511190</td>\n",
       "      <td>High Churn Risk</td>\n",
       "      <td>9520.529482</td>\n",
       "    </tr>\n",
       "    <tr>\n",
       "      <th>12347.0</th>\n",
       "      <td>7.0</td>\n",
       "      <td>402.0</td>\n",
       "      <td>404.0</td>\n",
       "      <td>717.398571</td>\n",
       "      <td>6.341063</td>\n",
       "      <td>3644.411685</td>\n",
       "      <td>0.986002</td>\n",
       "      <td>Not Churned</td>\n",
       "      <td>672.740683</td>\n",
       "    </tr>\n",
       "    <tr>\n",
       "      <th>12348.0</th>\n",
       "      <td>4.0</td>\n",
       "      <td>363.0</td>\n",
       "      <td>438.0</td>\n",
       "      <td>449.310000</td>\n",
       "      <td>3.641674</td>\n",
       "      <td>1391.121371</td>\n",
       "      <td>0.947968</td>\n",
       "      <td>Not Churned</td>\n",
       "      <td>440.212758</td>\n",
       "    </tr>\n",
       "    <tr>\n",
       "      <th>12349.0</th>\n",
       "      <td>3.0</td>\n",
       "      <td>571.0</td>\n",
       "      <td>589.0</td>\n",
       "      <td>1120.056667</td>\n",
       "      <td>2.231514</td>\n",
       "      <td>1900.539146</td>\n",
       "      <td>0.964980</td>\n",
       "      <td>Not Churned</td>\n",
       "      <td>918.531323</td>\n",
       "    </tr>\n",
       "    <tr>\n",
       "      <th>12352.0</th>\n",
       "      <td>8.0</td>\n",
       "      <td>356.0</td>\n",
       "      <td>392.0</td>\n",
       "      <td>338.261250</td>\n",
       "      <td>7.330727</td>\n",
       "      <td>2132.064800</td>\n",
       "      <td>0.975974</td>\n",
       "      <td>Not Churned</td>\n",
       "      <td>347.481829</td>\n",
       "    </tr>\n",
       "    <tr>\n",
       "      <th>...</th>\n",
       "      <td>...</td>\n",
       "      <td>...</td>\n",
       "      <td>...</td>\n",
       "      <td>...</td>\n",
       "      <td>...</td>\n",
       "      <td>...</td>\n",
       "      <td>...</td>\n",
       "      <td>...</td>\n",
       "      <td>...</td>\n",
       "    </tr>\n",
       "    <tr>\n",
       "      <th>18281.0</th>\n",
       "      <td>1.0</td>\n",
       "      <td>397.0</td>\n",
       "      <td>577.0</td>\n",
       "      <td>80.820000</td>\n",
       "      <td>1.067985</td>\n",
       "      <td>258.066619</td>\n",
       "      <td>0.823701</td>\n",
       "      <td>Not Churned</td>\n",
       "      <td>259.315739</td>\n",
       "    </tr>\n",
       "    <tr>\n",
       "      <th>18282.0</th>\n",
       "      <td>1.0</td>\n",
       "      <td>119.0</td>\n",
       "      <td>126.0</td>\n",
       "      <td>77.840000</td>\n",
       "      <td>3.510399</td>\n",
       "      <td>800.725421</td>\n",
       "      <td>0.903575</td>\n",
       "      <td>Not Churned</td>\n",
       "      <td>257.953692</td>\n",
       "    </tr>\n",
       "    <tr>\n",
       "      <th>18283.0</th>\n",
       "      <td>18.0</td>\n",
       "      <td>655.0</td>\n",
       "      <td>658.0</td>\n",
       "      <td>146.405556</td>\n",
       "      <td>9.959148</td>\n",
       "      <td>1371.809606</td>\n",
       "      <td>0.994283</td>\n",
       "      <td>Not Churned</td>\n",
       "      <td>162.698126</td>\n",
       "    </tr>\n",
       "    <tr>\n",
       "      <th>18286.0</th>\n",
       "      <td>1.0</td>\n",
       "      <td>247.0</td>\n",
       "      <td>723.0</td>\n",
       "      <td>833.480000</td>\n",
       "      <td>0.841930</td>\n",
       "      <td>324.823580</td>\n",
       "      <td>0.538496</td>\n",
       "      <td>High Churn Risk</td>\n",
       "      <td>603.328463</td>\n",
       "    </tr>\n",
       "    <tr>\n",
       "      <th>18287.0</th>\n",
       "      <td>5.0</td>\n",
       "      <td>529.0</td>\n",
       "      <td>571.0</td>\n",
       "      <td>622.276000</td>\n",
       "      <td>3.494163</td>\n",
       "      <td>1796.788300</td>\n",
       "      <td>0.971557</td>\n",
       "      <td>Not Churned</td>\n",
       "      <td>581.444755</td>\n",
       "    </tr>\n",
       "  </tbody>\n",
       "</table>\n",
       "<p>4189 rows × 9 columns</p>\n",
       "</div>"
      ],
      "text/plain": [
       "             frequency  recency      T  monetary_value  \\\n",
       "customer_id                                              \n",
       "12346.0            7.0    400.0  725.0    11066.637143   \n",
       "12347.0            7.0    402.0  404.0      717.398571   \n",
       "12348.0            4.0    363.0  438.0      449.310000   \n",
       "12349.0            3.0    571.0  589.0     1120.056667   \n",
       "12352.0            8.0    356.0  392.0      338.261250   \n",
       "...                ...      ...    ...             ...   \n",
       "18281.0            1.0    397.0  577.0       80.820000   \n",
       "18282.0            1.0    119.0  126.0       77.840000   \n",
       "18283.0           18.0    655.0  658.0      146.405556   \n",
       "18286.0            1.0    247.0  723.0      833.480000   \n",
       "18287.0            5.0    529.0  571.0      622.276000   \n",
       "\n",
       "             expected_purchases_endof2012  expected_clv_endof2012   p_alive  \\\n",
       "customer_id                                                                   \n",
       "12346.0                          3.603793            16552.591131  0.511190   \n",
       "12347.0                          6.341063             3644.411685  0.986002   \n",
       "12348.0                          3.641674             1391.121371  0.947968   \n",
       "12349.0                          2.231514             1900.539146  0.964980   \n",
       "12352.0                          7.330727             2132.064800  0.975974   \n",
       "...                                   ...                     ...       ...   \n",
       "18281.0                          1.067985              258.066619  0.823701   \n",
       "18282.0                          3.510399              800.725421  0.903575   \n",
       "18283.0                          9.959148             1371.809606  0.994283   \n",
       "18286.0                          0.841930              324.823580  0.538496   \n",
       "18287.0                          3.494163             1796.788300  0.971557   \n",
       "\n",
       "                       churn  estimated_transaction_value  \n",
       "customer_id                                                \n",
       "12346.0      High Churn Risk                  9520.529482  \n",
       "12347.0          Not Churned                   672.740683  \n",
       "12348.0          Not Churned                   440.212758  \n",
       "12349.0          Not Churned                   918.531323  \n",
       "12352.0          Not Churned                   347.481829  \n",
       "...                      ...                          ...  \n",
       "18281.0          Not Churned                   259.315739  \n",
       "18282.0          Not Churned                   257.953692  \n",
       "18283.0          Not Churned                   162.698126  \n",
       "18286.0      High Churn Risk                   603.328463  \n",
       "18287.0          Not Churned                   581.444755  \n",
       "\n",
       "[4189 rows x 9 columns]"
      ]
     },
     "execution_count": 57,
     "metadata": {},
     "output_type": "execute_result"
    }
   ],
   "source": [
    "#see data\n",
    "returning_customers_summary"
   ]
  },
  {
   "cell_type": "code",
   "execution_count": 58,
   "metadata": {},
   "outputs": [
    {
     "data": {
      "text/plain": [
       "8135544.828366573"
      ]
     },
     "execution_count": 58,
     "metadata": {},
     "output_type": "execute_result"
    }
   ],
   "source": [
    "#Calculate Total Customer Base Value\n",
    "sum(returning_customers_summary['expected_clv_endof2012'])"
   ]
  },
  {
   "cell_type": "code",
   "execution_count": 59,
   "metadata": {},
   "outputs": [
    {
     "data": {
      "text/html": [
       "<div>\n",
       "<style scoped>\n",
       "    .dataframe tbody tr th:only-of-type {\n",
       "        vertical-align: middle;\n",
       "    }\n",
       "\n",
       "    .dataframe tbody tr th {\n",
       "        vertical-align: top;\n",
       "    }\n",
       "\n",
       "    .dataframe thead th {\n",
       "        text-align: right;\n",
       "    }\n",
       "</style>\n",
       "<table border=\"1\" class=\"dataframe\">\n",
       "  <thead>\n",
       "    <tr style=\"text-align: right;\">\n",
       "      <th></th>\n",
       "      <th>frequency</th>\n",
       "      <th>recency</th>\n",
       "      <th>T</th>\n",
       "      <th>monetary_value</th>\n",
       "      <th>expected_purchases_endof2012</th>\n",
       "      <th>expected_clv_endof2012</th>\n",
       "      <th>p_alive</th>\n",
       "      <th>churn</th>\n",
       "      <th>estimated_transaction_value</th>\n",
       "    </tr>\n",
       "    <tr>\n",
       "      <th>customer_id</th>\n",
       "      <th></th>\n",
       "      <th></th>\n",
       "      <th></th>\n",
       "      <th></th>\n",
       "      <th></th>\n",
       "      <th></th>\n",
       "      <th></th>\n",
       "      <th></th>\n",
       "      <th></th>\n",
       "    </tr>\n",
       "  </thead>\n",
       "  <tbody>\n",
       "    <tr>\n",
       "      <th>14088.0</th>\n",
       "      <td>13.0</td>\n",
       "      <td>411.0</td>\n",
       "      <td>421.0</td>\n",
       "      <td>3949.358462</td>\n",
       "      <td>10.818842</td>\n",
       "      <td>32860.405281</td>\n",
       "      <td>0.990339</td>\n",
       "      <td>Not Churned</td>\n",
       "      <td>3652.989559</td>\n",
       "    </tr>\n",
       "    <tr>\n",
       "      <th>15769.0</th>\n",
       "      <td>39.0</td>\n",
       "      <td>721.0</td>\n",
       "      <td>728.0</td>\n",
       "      <td>2223.700513</td>\n",
       "      <td>19.228861</td>\n",
       "      <td>34939.536304</td>\n",
       "      <td>0.996554</td>\n",
       "      <td>Not Churned</td>\n",
       "      <td>2170.078235</td>\n",
       "    </tr>\n",
       "    <tr>\n",
       "      <th>14298.0</th>\n",
       "      <td>44.0</td>\n",
       "      <td>720.0</td>\n",
       "      <td>728.0</td>\n",
       "      <td>2023.197500</td>\n",
       "      <td>21.642855</td>\n",
       "      <td>35832.236331</td>\n",
       "      <td>0.996633</td>\n",
       "      <td>Not Churned</td>\n",
       "      <td>1980.779238</td>\n",
       "    </tr>\n",
       "    <tr>\n",
       "      <th>12931.0</th>\n",
       "      <td>42.0</td>\n",
       "      <td>717.0</td>\n",
       "      <td>738.0</td>\n",
       "      <td>2171.127143</td>\n",
       "      <td>20.417962</td>\n",
       "      <td>36156.764093</td>\n",
       "      <td>0.993199</td>\n",
       "      <td>Not Churned</td>\n",
       "      <td>2122.675712</td>\n",
       "    </tr>\n",
       "    <tr>\n",
       "      <th>16029.0</th>\n",
       "      <td>70.0</td>\n",
       "      <td>693.0</td>\n",
       "      <td>731.0</td>\n",
       "      <td>1699.404857</td>\n",
       "      <td>33.987633</td>\n",
       "      <td>45929.774267</td>\n",
       "      <td>0.963073</td>\n",
       "      <td>Not Churned</td>\n",
       "      <td>1677.882046</td>\n",
       "    </tr>\n",
       "    <tr>\n",
       "      <th>15311.0</th>\n",
       "      <td>195.0</td>\n",
       "      <td>738.0</td>\n",
       "      <td>738.0</td>\n",
       "      <td>594.605846</td>\n",
       "      <td>93.394177</td>\n",
       "      <td>45959.229124</td>\n",
       "      <td>0.999510</td>\n",
       "      <td>Not Churned</td>\n",
       "      <td>593.485542</td>\n",
       "    </tr>\n",
       "    <tr>\n",
       "      <th>13089.0</th>\n",
       "      <td>131.0</td>\n",
       "      <td>735.0</td>\n",
       "      <td>737.0</td>\n",
       "      <td>888.318779</td>\n",
       "      <td>62.947175</td>\n",
       "      <td>46191.133060</td>\n",
       "      <td>0.998999</td>\n",
       "      <td>Not Churned</td>\n",
       "      <td>884.016667</td>\n",
       "    </tr>\n",
       "    <tr>\n",
       "      <th>17949.0</th>\n",
       "      <td>70.0</td>\n",
       "      <td>736.0</td>\n",
       "      <td>737.0</td>\n",
       "      <td>1668.029714</td>\n",
       "      <td>33.819343</td>\n",
       "      <td>46415.927336</td>\n",
       "      <td>0.998513</td>\n",
       "      <td>Not Churned</td>\n",
       "      <td>1647.030448</td>\n",
       "    </tr>\n",
       "    <tr>\n",
       "      <th>15061.0</th>\n",
       "      <td>67.0</td>\n",
       "      <td>735.0</td>\n",
       "      <td>738.0</td>\n",
       "      <td>2008.116119</td>\n",
       "      <td>32.346323</td>\n",
       "      <td>53384.968660</td>\n",
       "      <td>0.998179</td>\n",
       "      <td>Not Churned</td>\n",
       "      <td>1980.268407</td>\n",
       "    </tr>\n",
       "    <tr>\n",
       "      <th>16684.0</th>\n",
       "      <td>34.0</td>\n",
       "      <td>728.0</td>\n",
       "      <td>732.0</td>\n",
       "      <td>4293.930882</td>\n",
       "      <td>16.731577</td>\n",
       "      <td>58478.250169</td>\n",
       "      <td>0.996671</td>\n",
       "      <td>Not Churned</td>\n",
       "      <td>4162.801663</td>\n",
       "    </tr>\n",
       "    <tr>\n",
       "      <th>17511.0</th>\n",
       "      <td>50.0</td>\n",
       "      <td>735.0</td>\n",
       "      <td>737.0</td>\n",
       "      <td>3449.898200</td>\n",
       "      <td>24.268832</td>\n",
       "      <td>68548.177453</td>\n",
       "      <td>0.997840</td>\n",
       "      <td>Not Churned</td>\n",
       "      <td>3379.343482</td>\n",
       "    </tr>\n",
       "    <tr>\n",
       "      <th>12415.0</th>\n",
       "      <td>22.0</td>\n",
       "      <td>503.0</td>\n",
       "      <td>527.0</td>\n",
       "      <td>6460.528636</td>\n",
       "      <td>14.704992</td>\n",
       "      <td>74838.646001</td>\n",
       "      <td>0.989267</td>\n",
       "      <td>Not Churned</td>\n",
       "      <td>6150.546624</td>\n",
       "    </tr>\n",
       "    <tr>\n",
       "      <th>13694.0</th>\n",
       "      <td>82.0</td>\n",
       "      <td>732.0</td>\n",
       "      <td>735.0</td>\n",
       "      <td>2365.279512</td>\n",
       "      <td>39.646672</td>\n",
       "      <td>77100.115823</td>\n",
       "      <td>0.998428</td>\n",
       "      <td>Not Churned</td>\n",
       "      <td>2337.353026</td>\n",
       "    </tr>\n",
       "    <tr>\n",
       "      <th>14096.0</th>\n",
       "      <td>16.0</td>\n",
       "      <td>97.0</td>\n",
       "      <td>101.0</td>\n",
       "      <td>4071.434375</td>\n",
       "      <td>37.369641</td>\n",
       "      <td>103350.387926</td>\n",
       "      <td>0.991601</td>\n",
       "      <td>Not Churned</td>\n",
       "      <td>3818.357285</td>\n",
       "    </tr>\n",
       "    <tr>\n",
       "      <th>14911.0</th>\n",
       "      <td>254.0</td>\n",
       "      <td>737.0</td>\n",
       "      <td>738.0</td>\n",
       "      <td>1162.358268</td>\n",
       "      <td>121.532020</td>\n",
       "      <td>116684.503801</td>\n",
       "      <td>0.999490</td>\n",
       "      <td>Not Churned</td>\n",
       "      <td>1158.854127</td>\n",
       "    </tr>\n",
       "    <tr>\n",
       "      <th>14156.0</th>\n",
       "      <td>120.0</td>\n",
       "      <td>729.0</td>\n",
       "      <td>738.0</td>\n",
       "      <td>2607.329750</td>\n",
       "      <td>57.616504</td>\n",
       "      <td>123509.114236</td>\n",
       "      <td>0.997063</td>\n",
       "      <td>Not Churned</td>\n",
       "      <td>2585.787390</td>\n",
       "    </tr>\n",
       "    <tr>\n",
       "      <th>17450.0</th>\n",
       "      <td>30.0</td>\n",
       "      <td>430.0</td>\n",
       "      <td>438.0</td>\n",
       "      <td>6924.523000</td>\n",
       "      <td>23.323354</td>\n",
       "      <td>127119.768109</td>\n",
       "      <td>0.994922</td>\n",
       "      <td>Not Churned</td>\n",
       "      <td>6676.381814</td>\n",
       "    </tr>\n",
       "    <tr>\n",
       "      <th>16446.0</th>\n",
       "      <td>1.0</td>\n",
       "      <td>205.0</td>\n",
       "      <td>205.0</td>\n",
       "      <td>168469.600000</td>\n",
       "      <td>2.515491</td>\n",
       "      <td>182128.151778</td>\n",
       "      <td>0.910166</td>\n",
       "      <td>Not Churned</td>\n",
       "      <td>77223.526606</td>\n",
       "    </tr>\n",
       "    <tr>\n",
       "      <th>14646.0</th>\n",
       "      <td>90.0</td>\n",
       "      <td>736.0</td>\n",
       "      <td>737.0</td>\n",
       "      <td>5809.905333</td>\n",
       "      <td>43.369647</td>\n",
       "      <td>207059.800779</td>\n",
       "      <td>0.998816</td>\n",
       "      <td>Not Churned</td>\n",
       "      <td>5739.556493</td>\n",
       "    </tr>\n",
       "    <tr>\n",
       "      <th>18102.0</th>\n",
       "      <td>66.0</td>\n",
       "      <td>738.0</td>\n",
       "      <td>738.0</td>\n",
       "      <td>9189.930455</td>\n",
       "      <td>31.870193</td>\n",
       "      <td>240095.228180</td>\n",
       "      <td>0.998552</td>\n",
       "      <td>Not Churned</td>\n",
       "      <td>9034.693534</td>\n",
       "    </tr>\n",
       "  </tbody>\n",
       "</table>\n",
       "</div>"
      ],
      "text/plain": [
       "             frequency  recency      T  monetary_value  \\\n",
       "customer_id                                              \n",
       "14088.0           13.0    411.0  421.0     3949.358462   \n",
       "15769.0           39.0    721.0  728.0     2223.700513   \n",
       "14298.0           44.0    720.0  728.0     2023.197500   \n",
       "12931.0           42.0    717.0  738.0     2171.127143   \n",
       "16029.0           70.0    693.0  731.0     1699.404857   \n",
       "15311.0          195.0    738.0  738.0      594.605846   \n",
       "13089.0          131.0    735.0  737.0      888.318779   \n",
       "17949.0           70.0    736.0  737.0     1668.029714   \n",
       "15061.0           67.0    735.0  738.0     2008.116119   \n",
       "16684.0           34.0    728.0  732.0     4293.930882   \n",
       "17511.0           50.0    735.0  737.0     3449.898200   \n",
       "12415.0           22.0    503.0  527.0     6460.528636   \n",
       "13694.0           82.0    732.0  735.0     2365.279512   \n",
       "14096.0           16.0     97.0  101.0     4071.434375   \n",
       "14911.0          254.0    737.0  738.0     1162.358268   \n",
       "14156.0          120.0    729.0  738.0     2607.329750   \n",
       "17450.0           30.0    430.0  438.0     6924.523000   \n",
       "16446.0            1.0    205.0  205.0   168469.600000   \n",
       "14646.0           90.0    736.0  737.0     5809.905333   \n",
       "18102.0           66.0    738.0  738.0     9189.930455   \n",
       "\n",
       "             expected_purchases_endof2012  expected_clv_endof2012   p_alive  \\\n",
       "customer_id                                                                   \n",
       "14088.0                         10.818842            32860.405281  0.990339   \n",
       "15769.0                         19.228861            34939.536304  0.996554   \n",
       "14298.0                         21.642855            35832.236331  0.996633   \n",
       "12931.0                         20.417962            36156.764093  0.993199   \n",
       "16029.0                         33.987633            45929.774267  0.963073   \n",
       "15311.0                         93.394177            45959.229124  0.999510   \n",
       "13089.0                         62.947175            46191.133060  0.998999   \n",
       "17949.0                         33.819343            46415.927336  0.998513   \n",
       "15061.0                         32.346323            53384.968660  0.998179   \n",
       "16684.0                         16.731577            58478.250169  0.996671   \n",
       "17511.0                         24.268832            68548.177453  0.997840   \n",
       "12415.0                         14.704992            74838.646001  0.989267   \n",
       "13694.0                         39.646672            77100.115823  0.998428   \n",
       "14096.0                         37.369641           103350.387926  0.991601   \n",
       "14911.0                        121.532020           116684.503801  0.999490   \n",
       "14156.0                         57.616504           123509.114236  0.997063   \n",
       "17450.0                         23.323354           127119.768109  0.994922   \n",
       "16446.0                          2.515491           182128.151778  0.910166   \n",
       "14646.0                         43.369647           207059.800779  0.998816   \n",
       "18102.0                         31.870193           240095.228180  0.998552   \n",
       "\n",
       "                   churn  estimated_transaction_value  \n",
       "customer_id                                            \n",
       "14088.0      Not Churned                  3652.989559  \n",
       "15769.0      Not Churned                  2170.078235  \n",
       "14298.0      Not Churned                  1980.779238  \n",
       "12931.0      Not Churned                  2122.675712  \n",
       "16029.0      Not Churned                  1677.882046  \n",
       "15311.0      Not Churned                   593.485542  \n",
       "13089.0      Not Churned                   884.016667  \n",
       "17949.0      Not Churned                  1647.030448  \n",
       "15061.0      Not Churned                  1980.268407  \n",
       "16684.0      Not Churned                  4162.801663  \n",
       "17511.0      Not Churned                  3379.343482  \n",
       "12415.0      Not Churned                  6150.546624  \n",
       "13694.0      Not Churned                  2337.353026  \n",
       "14096.0      Not Churned                  3818.357285  \n",
       "14911.0      Not Churned                  1158.854127  \n",
       "14156.0      Not Churned                  2585.787390  \n",
       "17450.0      Not Churned                  6676.381814  \n",
       "16446.0      Not Churned                 77223.526606  \n",
       "14646.0      Not Churned                  5739.556493  \n",
       "18102.0      Not Churned                  9034.693534  "
      ]
     },
     "execution_count": 59,
     "metadata": {},
     "output_type": "execute_result"
    }
   ],
   "source": [
    "#See Top 20 Customers by CLV\n",
    "returning_customers_summary.sort_values('expected_clv_endof2012').tail(20)"
   ]
  },
  {
   "cell_type": "markdown",
   "metadata": {},
   "source": [
    "### Customer-Level Analytics\n",
    "- Retrieve a specific customer and see their purchasing history and potential to churn timeline"
   ]
  },
  {
   "cell_type": "code",
   "execution_count": 60,
   "metadata": {},
   "outputs": [
    {
     "data": {
      "text/plain": [
       "0.1984070314625903"
      ]
     },
     "execution_count": 60,
     "metadata": {},
     "output_type": "execute_result"
    }
   ],
   "source": [
    "#Code to pull a specific user\n",
    "t = 12 #predict purchases in 12 periods\n",
    "individual = summary.iloc[1]\n",
    "# The below function is an alias to `bfg.conditional_expected_number_of_purchases_up_to_time`\n",
    "bgf.predict(t, individual['frequency'], individual['recency'], individual['T'])"
   ]
  },
  {
   "cell_type": "code",
   "execution_count": 61,
   "metadata": {},
   "outputs": [
    {
     "data": {
      "text/plain": [
       "frequency                         7.000000\n",
       "recency                         402.000000\n",
       "T                               404.000000\n",
       "monetary_value                  717.398571\n",
       "expected_purchases_endof2012      6.341063\n",
       "Name: 12347.0, dtype: float64"
      ]
     },
     "execution_count": 61,
     "metadata": {},
     "output_type": "execute_result"
    }
   ],
   "source": [
    "individual.head()"
   ]
  },
  {
   "cell_type": "code",
   "execution_count": 62,
   "metadata": {
    "scrolled": false
   },
   "outputs": [
    {
     "data": {
      "text/html": [
       "<div>\n",
       "<style scoped>\n",
       "    .dataframe tbody tr th:only-of-type {\n",
       "        vertical-align: middle;\n",
       "    }\n",
       "\n",
       "    .dataframe tbody tr th {\n",
       "        vertical-align: top;\n",
       "    }\n",
       "\n",
       "    .dataframe thead th {\n",
       "        text-align: right;\n",
       "    }\n",
       "</style>\n",
       "<table border=\"1\" class=\"dataframe\">\n",
       "  <thead>\n",
       "    <tr style=\"text-align: right;\">\n",
       "      <th></th>\n",
       "      <th>invoice</th>\n",
       "      <th>stockcode</th>\n",
       "      <th>description</th>\n",
       "      <th>quantity</th>\n",
       "      <th>invoice_date</th>\n",
       "      <th>price</th>\n",
       "      <th>customer_id</th>\n",
       "      <th>country</th>\n",
       "      <th>total_sale</th>\n",
       "      <th>date</th>\n",
       "    </tr>\n",
       "  </thead>\n",
       "  <tbody>\n",
       "    <tr>\n",
       "      <th>423892</th>\n",
       "      <td>529924</td>\n",
       "      <td>22698</td>\n",
       "      <td>PINK REGENCY TEACUP AND SAUCER</td>\n",
       "      <td>6</td>\n",
       "      <td>2010-10-31 14:20:00</td>\n",
       "      <td>2.95</td>\n",
       "      <td>12347.0</td>\n",
       "      <td>Iceland</td>\n",
       "      <td>17.70</td>\n",
       "      <td>2010-10-31</td>\n",
       "    </tr>\n",
       "    <tr>\n",
       "      <th>423893</th>\n",
       "      <td>529924</td>\n",
       "      <td>22699</td>\n",
       "      <td>ROSES REGENCY TEACUP AND SAUCER</td>\n",
       "      <td>6</td>\n",
       "      <td>2010-10-31 14:20:00</td>\n",
       "      <td>2.95</td>\n",
       "      <td>12347.0</td>\n",
       "      <td>Iceland</td>\n",
       "      <td>17.70</td>\n",
       "      <td>2010-10-31</td>\n",
       "    </tr>\n",
       "    <tr>\n",
       "      <th>423894</th>\n",
       "      <td>529924</td>\n",
       "      <td>20985</td>\n",
       "      <td>HEART CALCULATOR</td>\n",
       "      <td>12</td>\n",
       "      <td>2010-10-31 14:20:00</td>\n",
       "      <td>1.25</td>\n",
       "      <td>12347.0</td>\n",
       "      <td>Iceland</td>\n",
       "      <td>15.00</td>\n",
       "      <td>2010-10-31</td>\n",
       "    </tr>\n",
       "    <tr>\n",
       "      <th>423895</th>\n",
       "      <td>529924</td>\n",
       "      <td>22418</td>\n",
       "      <td>10 COLOUR SPACEBOY PEN</td>\n",
       "      <td>24</td>\n",
       "      <td>2010-10-31 14:20:00</td>\n",
       "      <td>0.85</td>\n",
       "      <td>12347.0</td>\n",
       "      <td>Iceland</td>\n",
       "      <td>20.40</td>\n",
       "      <td>2010-10-31</td>\n",
       "    </tr>\n",
       "    <tr>\n",
       "      <th>423896</th>\n",
       "      <td>529924</td>\n",
       "      <td>22422</td>\n",
       "      <td>TOOTHPASTE TUBE PEN</td>\n",
       "      <td>12</td>\n",
       "      <td>2010-10-31 14:20:00</td>\n",
       "      <td>0.65</td>\n",
       "      <td>12347.0</td>\n",
       "      <td>Iceland</td>\n",
       "      <td>7.80</td>\n",
       "      <td>2010-10-31</td>\n",
       "    </tr>\n",
       "    <tr>\n",
       "      <th>...</th>\n",
       "      <td>...</td>\n",
       "      <td>...</td>\n",
       "      <td>...</td>\n",
       "      <td>...</td>\n",
       "      <td>...</td>\n",
       "      <td>...</td>\n",
       "      <td>...</td>\n",
       "      <td>...</td>\n",
       "      <td>...</td>\n",
       "      <td>...</td>\n",
       "    </tr>\n",
       "    <tr>\n",
       "      <th>535010</th>\n",
       "      <td>581180</td>\n",
       "      <td>20719</td>\n",
       "      <td>WOODLAND CHARLOTTE BAG</td>\n",
       "      <td>10</td>\n",
       "      <td>2011-12-07 15:52:00</td>\n",
       "      <td>0.85</td>\n",
       "      <td>12347.0</td>\n",
       "      <td>Iceland</td>\n",
       "      <td>8.50</td>\n",
       "      <td>2011-12-07</td>\n",
       "    </tr>\n",
       "    <tr>\n",
       "      <th>535011</th>\n",
       "      <td>581180</td>\n",
       "      <td>21265</td>\n",
       "      <td>PINK GOOSE FEATHER TREE 60CM</td>\n",
       "      <td>12</td>\n",
       "      <td>2011-12-07 15:52:00</td>\n",
       "      <td>1.95</td>\n",
       "      <td>12347.0</td>\n",
       "      <td>Iceland</td>\n",
       "      <td>23.40</td>\n",
       "      <td>2011-12-07</td>\n",
       "    </tr>\n",
       "    <tr>\n",
       "      <th>535012</th>\n",
       "      <td>581180</td>\n",
       "      <td>23271</td>\n",
       "      <td>CHRISTMAS TABLE SILVER CANDLE SPIKE</td>\n",
       "      <td>16</td>\n",
       "      <td>2011-12-07 15:52:00</td>\n",
       "      <td>0.83</td>\n",
       "      <td>12347.0</td>\n",
       "      <td>Iceland</td>\n",
       "      <td>13.28</td>\n",
       "      <td>2011-12-07</td>\n",
       "    </tr>\n",
       "    <tr>\n",
       "      <th>535013</th>\n",
       "      <td>581180</td>\n",
       "      <td>23506</td>\n",
       "      <td>MINI PLAYING CARDS SPACEBOY</td>\n",
       "      <td>20</td>\n",
       "      <td>2011-12-07 15:52:00</td>\n",
       "      <td>0.42</td>\n",
       "      <td>12347.0</td>\n",
       "      <td>Iceland</td>\n",
       "      <td>8.40</td>\n",
       "      <td>2011-12-07</td>\n",
       "    </tr>\n",
       "    <tr>\n",
       "      <th>535014</th>\n",
       "      <td>581180</td>\n",
       "      <td>23508</td>\n",
       "      <td>MINI PLAYING CARDS DOLLY GIRL</td>\n",
       "      <td>20</td>\n",
       "      <td>2011-12-07 15:52:00</td>\n",
       "      <td>0.42</td>\n",
       "      <td>12347.0</td>\n",
       "      <td>Iceland</td>\n",
       "      <td>8.40</td>\n",
       "      <td>2011-12-07</td>\n",
       "    </tr>\n",
       "  </tbody>\n",
       "</table>\n",
       "<p>253 rows × 10 columns</p>\n",
       "</div>"
      ],
      "text/plain": [
       "       invoice stockcode                          description  quantity  \\\n",
       "423892  529924     22698       PINK REGENCY TEACUP AND SAUCER         6   \n",
       "423893  529924     22699     ROSES REGENCY TEACUP AND SAUCER          6   \n",
       "423894  529924     20985                     HEART CALCULATOR        12   \n",
       "423895  529924     22418               10 COLOUR SPACEBOY PEN        24   \n",
       "423896  529924     22422                  TOOTHPASTE TUBE PEN        12   \n",
       "...        ...       ...                                  ...       ...   \n",
       "535010  581180     20719               WOODLAND CHARLOTTE BAG        10   \n",
       "535011  581180     21265         PINK GOOSE FEATHER TREE 60CM        12   \n",
       "535012  581180     23271  CHRISTMAS TABLE SILVER CANDLE SPIKE        16   \n",
       "535013  581180     23506         MINI PLAYING CARDS SPACEBOY         20   \n",
       "535014  581180     23508       MINI PLAYING CARDS DOLLY GIRL         20   \n",
       "\n",
       "              invoice_date  price  customer_id  country  total_sale  \\\n",
       "423892 2010-10-31 14:20:00   2.95      12347.0  Iceland       17.70   \n",
       "423893 2010-10-31 14:20:00   2.95      12347.0  Iceland       17.70   \n",
       "423894 2010-10-31 14:20:00   1.25      12347.0  Iceland       15.00   \n",
       "423895 2010-10-31 14:20:00   0.85      12347.0  Iceland       20.40   \n",
       "423896 2010-10-31 14:20:00   0.65      12347.0  Iceland        7.80   \n",
       "...                    ...    ...          ...      ...         ...   \n",
       "535010 2011-12-07 15:52:00   0.85      12347.0  Iceland        8.50   \n",
       "535011 2011-12-07 15:52:00   1.95      12347.0  Iceland       23.40   \n",
       "535012 2011-12-07 15:52:00   0.83      12347.0  Iceland       13.28   \n",
       "535013 2011-12-07 15:52:00   0.42      12347.0  Iceland        8.40   \n",
       "535014 2011-12-07 15:52:00   0.42      12347.0  Iceland        8.40   \n",
       "\n",
       "              date  \n",
       "423892  2010-10-31  \n",
       "423893  2010-10-31  \n",
       "423894  2010-10-31  \n",
       "423895  2010-10-31  \n",
       "423896  2010-10-31  \n",
       "...            ...  \n",
       "535010  2011-12-07  \n",
       "535011  2011-12-07  \n",
       "535012  2011-12-07  \n",
       "535013  2011-12-07  \n",
       "535014  2011-12-07  \n",
       "\n",
       "[253 rows x 10 columns]"
      ]
     },
     "execution_count": 62,
     "metadata": {},
     "output_type": "execute_result"
    },
    {
     "data": {
      "image/png": "[encoded data removed]",
      "text/plain": [
       "<Figure size 864x576 with 1 Axes>"
      ]
     },
     "metadata": {
      "needs_background": "light"
     },
     "output_type": "display_data"
    }
   ],
   "source": [
    "#See a customer's purchase history\n",
    "customer_id = 12347\n",
    "days_since_birth = 70\n",
    "sp_trans = data.loc[data['customer_id'] == customer_id]\n",
    "fig = plt.figure(figsize=(12,8))\n",
    "plot_history_alive(bgf, days_since_birth, sp_trans, 'date', freq = 'D')\n",
    "sp_trans"
   ]
  },
  {
   "cell_type": "markdown",
   "metadata": {},
   "source": [
    "### RFM Segmentation\n",
    "- Segment our customers by CLV"
   ]
  },
  {
   "cell_type": "code",
   "execution_count": 63,
   "metadata": {},
   "outputs": [],
   "source": [
    "#Define quantiles. You can divide your customers into 4-5 or as many groups as it makes sense to have\n",
    "quantiles = returning_customers_summary.quantile(q=[0.00,0.33,0.66])\n",
    "quantiles = quantiles.to_dict()"
   ]
  },
  {
   "cell_type": "code",
   "execution_count": 64,
   "metadata": {},
   "outputs": [],
   "source": [
    "segmented_rfm = returning_customers_summary"
   ]
  },
  {
   "cell_type": "code",
   "execution_count": 65,
   "metadata": {},
   "outputs": [],
   "source": [
    "def RScore(x,p,d):\n",
    "    if x <= d[p][0.00]:\n",
    "        return 0\n",
    "    elif x <= d[p][0.33]:\n",
    "        return 1\n",
    "    elif x <= d[p][0.66]: \n",
    "        return 2\n",
    "    else:\n",
    "        return 3\n",
    "    \n",
    "def FMScore(x,p,d):\n",
    "    if x <= d[p][0.00]:\n",
    "        return 0\n",
    "    elif x <= d[p][0.33]:\n",
    "        return 1\n",
    "    elif x <= d[p][0.66]: \n",
    "        return 2\n",
    "    else:\n",
    "        return 3"
   ]
  },
  {
   "cell_type": "code",
   "execution_count": 66,
   "metadata": {},
   "outputs": [
    {
     "data": {
      "text/html": [
       "<div>\n",
       "<style scoped>\n",
       "    .dataframe tbody tr th:only-of-type {\n",
       "        vertical-align: middle;\n",
       "    }\n",
       "\n",
       "    .dataframe tbody tr th {\n",
       "        vertical-align: top;\n",
       "    }\n",
       "\n",
       "    .dataframe thead th {\n",
       "        text-align: right;\n",
       "    }\n",
       "</style>\n",
       "<table border=\"1\" class=\"dataframe\">\n",
       "  <thead>\n",
       "    <tr style=\"text-align: right;\">\n",
       "      <th></th>\n",
       "      <th>frequency</th>\n",
       "      <th>recency</th>\n",
       "      <th>T</th>\n",
       "      <th>monetary_value</th>\n",
       "      <th>expected_purchases_endof2012</th>\n",
       "      <th>expected_clv_endof2012</th>\n",
       "      <th>p_alive</th>\n",
       "      <th>churn</th>\n",
       "      <th>estimated_transaction_value</th>\n",
       "      <th>r_quartile</th>\n",
       "      <th>f_quartile</th>\n",
       "      <th>m_quartile</th>\n",
       "    </tr>\n",
       "    <tr>\n",
       "      <th>customer_id</th>\n",
       "      <th></th>\n",
       "      <th></th>\n",
       "      <th></th>\n",
       "      <th></th>\n",
       "      <th></th>\n",
       "      <th></th>\n",
       "      <th></th>\n",
       "      <th></th>\n",
       "      <th></th>\n",
       "      <th></th>\n",
       "      <th></th>\n",
       "      <th></th>\n",
       "    </tr>\n",
       "  </thead>\n",
       "  <tbody>\n",
       "    <tr>\n",
       "      <th>12346.0</th>\n",
       "      <td>7.0</td>\n",
       "      <td>400.0</td>\n",
       "      <td>725.0</td>\n",
       "      <td>11066.637143</td>\n",
       "      <td>3.603793</td>\n",
       "      <td>16552.591131</td>\n",
       "      <td>0.511190</td>\n",
       "      <td>High Churn Risk</td>\n",
       "      <td>9520.529482</td>\n",
       "      <td>2</td>\n",
       "      <td>3</td>\n",
       "      <td>3</td>\n",
       "    </tr>\n",
       "    <tr>\n",
       "      <th>12347.0</th>\n",
       "      <td>7.0</td>\n",
       "      <td>402.0</td>\n",
       "      <td>404.0</td>\n",
       "      <td>717.398571</td>\n",
       "      <td>6.341063</td>\n",
       "      <td>3644.411685</td>\n",
       "      <td>0.986002</td>\n",
       "      <td>Not Churned</td>\n",
       "      <td>672.740683</td>\n",
       "      <td>2</td>\n",
       "      <td>3</td>\n",
       "      <td>3</td>\n",
       "    </tr>\n",
       "    <tr>\n",
       "      <th>12348.0</th>\n",
       "      <td>4.0</td>\n",
       "      <td>363.0</td>\n",
       "      <td>438.0</td>\n",
       "      <td>449.310000</td>\n",
       "      <td>3.641674</td>\n",
       "      <td>1391.121371</td>\n",
       "      <td>0.947968</td>\n",
       "      <td>Not Churned</td>\n",
       "      <td>440.212758</td>\n",
       "      <td>2</td>\n",
       "      <td>2</td>\n",
       "      <td>3</td>\n",
       "    </tr>\n",
       "    <tr>\n",
       "      <th>12349.0</th>\n",
       "      <td>3.0</td>\n",
       "      <td>571.0</td>\n",
       "      <td>589.0</td>\n",
       "      <td>1120.056667</td>\n",
       "      <td>2.231514</td>\n",
       "      <td>1900.539146</td>\n",
       "      <td>0.964980</td>\n",
       "      <td>Not Churned</td>\n",
       "      <td>918.531323</td>\n",
       "      <td>3</td>\n",
       "      <td>2</td>\n",
       "      <td>3</td>\n",
       "    </tr>\n",
       "    <tr>\n",
       "      <th>12352.0</th>\n",
       "      <td>8.0</td>\n",
       "      <td>356.0</td>\n",
       "      <td>392.0</td>\n",
       "      <td>338.261250</td>\n",
       "      <td>7.330727</td>\n",
       "      <td>2132.064800</td>\n",
       "      <td>0.975974</td>\n",
       "      <td>Not Churned</td>\n",
       "      <td>347.481829</td>\n",
       "      <td>2</td>\n",
       "      <td>3</td>\n",
       "      <td>2</td>\n",
       "    </tr>\n",
       "  </tbody>\n",
       "</table>\n",
       "</div>"
      ],
      "text/plain": [
       "             frequency  recency      T  monetary_value  \\\n",
       "customer_id                                              \n",
       "12346.0            7.0    400.0  725.0    11066.637143   \n",
       "12347.0            7.0    402.0  404.0      717.398571   \n",
       "12348.0            4.0    363.0  438.0      449.310000   \n",
       "12349.0            3.0    571.0  589.0     1120.056667   \n",
       "12352.0            8.0    356.0  392.0      338.261250   \n",
       "\n",
       "             expected_purchases_endof2012  expected_clv_endof2012   p_alive  \\\n",
       "customer_id                                                                   \n",
       "12346.0                          3.603793            16552.591131  0.511190   \n",
       "12347.0                          6.341063             3644.411685  0.986002   \n",
       "12348.0                          3.641674             1391.121371  0.947968   \n",
       "12349.0                          2.231514             1900.539146  0.964980   \n",
       "12352.0                          7.330727             2132.064800  0.975974   \n",
       "\n",
       "                       churn  estimated_transaction_value  r_quartile  \\\n",
       "customer_id                                                             \n",
       "12346.0      High Churn Risk                  9520.529482           2   \n",
       "12347.0          Not Churned                   672.740683           2   \n",
       "12348.0          Not Churned                   440.212758           2   \n",
       "12349.0          Not Churned                   918.531323           3   \n",
       "12352.0          Not Churned                   347.481829           2   \n",
       "\n",
       "             f_quartile  m_quartile  \n",
       "customer_id                          \n",
       "12346.0               3           3  \n",
       "12347.0               3           3  \n",
       "12348.0               2           3  \n",
       "12349.0               2           3  \n",
       "12352.0               3           2  "
      ]
     },
     "execution_count": 66,
     "metadata": {},
     "output_type": "execute_result"
    }
   ],
   "source": [
    "segmented_rfm['r_quartile'] = segmented_rfm['recency'].apply(RScore, args=('recency',quantiles,))\n",
    "segmented_rfm['f_quartile'] = segmented_rfm['frequency'].apply(FMScore, args=('frequency',quantiles,))\n",
    "segmented_rfm['m_quartile'] = segmented_rfm['monetary_value'].apply(FMScore, args=('monetary_value',quantiles,))\n",
    "segmented_rfm.head()"
   ]
  },
  {
   "cell_type": "code",
   "execution_count": 67,
   "metadata": {},
   "outputs": [
    {
     "data": {
      "text/html": [
       "<div>\n",
       "<style scoped>\n",
       "    .dataframe tbody tr th:only-of-type {\n",
       "        vertical-align: middle;\n",
       "    }\n",
       "\n",
       "    .dataframe tbody tr th {\n",
       "        vertical-align: top;\n",
       "    }\n",
       "\n",
       "    .dataframe thead th {\n",
       "        text-align: right;\n",
       "    }\n",
       "</style>\n",
       "<table border=\"1\" class=\"dataframe\">\n",
       "  <thead>\n",
       "    <tr style=\"text-align: right;\">\n",
       "      <th></th>\n",
       "      <th>frequency</th>\n",
       "      <th>recency</th>\n",
       "      <th>T</th>\n",
       "      <th>monetary_value</th>\n",
       "      <th>expected_purchases_endof2012</th>\n",
       "      <th>expected_clv_endof2012</th>\n",
       "      <th>p_alive</th>\n",
       "      <th>churn</th>\n",
       "      <th>estimated_transaction_value</th>\n",
       "      <th>r_quartile</th>\n",
       "      <th>f_quartile</th>\n",
       "      <th>m_quartile</th>\n",
       "      <th>RFMScore</th>\n",
       "    </tr>\n",
       "    <tr>\n",
       "      <th>customer_id</th>\n",
       "      <th></th>\n",
       "      <th></th>\n",
       "      <th></th>\n",
       "      <th></th>\n",
       "      <th></th>\n",
       "      <th></th>\n",
       "      <th></th>\n",
       "      <th></th>\n",
       "      <th></th>\n",
       "      <th></th>\n",
       "      <th></th>\n",
       "      <th></th>\n",
       "      <th></th>\n",
       "    </tr>\n",
       "  </thead>\n",
       "  <tbody>\n",
       "    <tr>\n",
       "      <th>12346.0</th>\n",
       "      <td>7.0</td>\n",
       "      <td>400.0</td>\n",
       "      <td>725.0</td>\n",
       "      <td>11066.637143</td>\n",
       "      <td>3.603793</td>\n",
       "      <td>16552.591131</td>\n",
       "      <td>0.511190</td>\n",
       "      <td>High Churn Risk</td>\n",
       "      <td>9520.529482</td>\n",
       "      <td>2</td>\n",
       "      <td>3</td>\n",
       "      <td>3</td>\n",
       "      <td>233</td>\n",
       "    </tr>\n",
       "    <tr>\n",
       "      <th>12347.0</th>\n",
       "      <td>7.0</td>\n",
       "      <td>402.0</td>\n",
       "      <td>404.0</td>\n",
       "      <td>717.398571</td>\n",
       "      <td>6.341063</td>\n",
       "      <td>3644.411685</td>\n",
       "      <td>0.986002</td>\n",
       "      <td>Not Churned</td>\n",
       "      <td>672.740683</td>\n",
       "      <td>2</td>\n",
       "      <td>3</td>\n",
       "      <td>3</td>\n",
       "      <td>233</td>\n",
       "    </tr>\n",
       "    <tr>\n",
       "      <th>12348.0</th>\n",
       "      <td>4.0</td>\n",
       "      <td>363.0</td>\n",
       "      <td>438.0</td>\n",
       "      <td>449.310000</td>\n",
       "      <td>3.641674</td>\n",
       "      <td>1391.121371</td>\n",
       "      <td>0.947968</td>\n",
       "      <td>Not Churned</td>\n",
       "      <td>440.212758</td>\n",
       "      <td>2</td>\n",
       "      <td>2</td>\n",
       "      <td>3</td>\n",
       "      <td>223</td>\n",
       "    </tr>\n",
       "    <tr>\n",
       "      <th>12349.0</th>\n",
       "      <td>3.0</td>\n",
       "      <td>571.0</td>\n",
       "      <td>589.0</td>\n",
       "      <td>1120.056667</td>\n",
       "      <td>2.231514</td>\n",
       "      <td>1900.539146</td>\n",
       "      <td>0.964980</td>\n",
       "      <td>Not Churned</td>\n",
       "      <td>918.531323</td>\n",
       "      <td>3</td>\n",
       "      <td>2</td>\n",
       "      <td>3</td>\n",
       "      <td>323</td>\n",
       "    </tr>\n",
       "    <tr>\n",
       "      <th>12352.0</th>\n",
       "      <td>8.0</td>\n",
       "      <td>356.0</td>\n",
       "      <td>392.0</td>\n",
       "      <td>338.261250</td>\n",
       "      <td>7.330727</td>\n",
       "      <td>2132.064800</td>\n",
       "      <td>0.975974</td>\n",
       "      <td>Not Churned</td>\n",
       "      <td>347.481829</td>\n",
       "      <td>2</td>\n",
       "      <td>3</td>\n",
       "      <td>2</td>\n",
       "      <td>232</td>\n",
       "    </tr>\n",
       "  </tbody>\n",
       "</table>\n",
       "</div>"
      ],
      "text/plain": [
       "             frequency  recency      T  monetary_value  \\\n",
       "customer_id                                              \n",
       "12346.0            7.0    400.0  725.0    11066.637143   \n",
       "12347.0            7.0    402.0  404.0      717.398571   \n",
       "12348.0            4.0    363.0  438.0      449.310000   \n",
       "12349.0            3.0    571.0  589.0     1120.056667   \n",
       "12352.0            8.0    356.0  392.0      338.261250   \n",
       "\n",
       "             expected_purchases_endof2012  expected_clv_endof2012   p_alive  \\\n",
       "customer_id                                                                   \n",
       "12346.0                          3.603793            16552.591131  0.511190   \n",
       "12347.0                          6.341063             3644.411685  0.986002   \n",
       "12348.0                          3.641674             1391.121371  0.947968   \n",
       "12349.0                          2.231514             1900.539146  0.964980   \n",
       "12352.0                          7.330727             2132.064800  0.975974   \n",
       "\n",
       "                       churn  estimated_transaction_value  r_quartile  \\\n",
       "customer_id                                                             \n",
       "12346.0      High Churn Risk                  9520.529482           2   \n",
       "12347.0          Not Churned                   672.740683           2   \n",
       "12348.0          Not Churned                   440.212758           2   \n",
       "12349.0          Not Churned                   918.531323           3   \n",
       "12352.0          Not Churned                   347.481829           2   \n",
       "\n",
       "             f_quartile  m_quartile RFMScore  \n",
       "customer_id                                   \n",
       "12346.0               3           3      233  \n",
       "12347.0               3           3      233  \n",
       "12348.0               2           3      223  \n",
       "12349.0               2           3      323  \n",
       "12352.0               3           2      232  "
      ]
     },
     "execution_count": 67,
     "metadata": {},
     "output_type": "execute_result"
    }
   ],
   "source": [
    "segmented_rfm['RFMScore'] = segmented_rfm.r_quartile.map(str) + segmented_rfm.f_quartile.map(str) + segmented_rfm.m_quartile.map(str)\n",
    "segmented_rfm.head()"
   ]
  },
  {
   "cell_type": "code",
   "execution_count": 68,
   "metadata": {},
   "outputs": [],
   "source": [
    "#Export for Analysis\n",
    "segmented_rfm.to_csv(r'/Users/williamchan/Documents/Queens University /Chanalytics/CLV/Data/segmented_rfm.csv')"
   ]
  }
 ],
 "metadata": {
  "kernelspec": {
   "display_name": "Python 3",
   "language": "python",
   "name": "python3"
  },
  "language_info": {
   "codemirror_mode": {
    "name": "ipython",
    "version": 3
   },
   "file_extension": ".py",
   "mimetype": "text/x-python",
   "name": "python",
   "nbconvert_exporter": "python",
   "pygments_lexer": "ipython3",
   "version": "3.7.7"
  }
 },
 "nbformat": 4,
 "nbformat_minor": 4
}
